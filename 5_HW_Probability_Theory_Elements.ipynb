{
  "nbformat": 4,
  "nbformat_minor": 0,
  "metadata": {
    "colab": {
      "name": "5_HW Probability Theory Elements.ipynb",
      "provenance": [],
      "authorship_tag": "ABX9TyPOY8gok2lYx6Y+FtISSTrg",
      "include_colab_link": true
    },
    "kernelspec": {
      "name": "python3",
      "display_name": "Python 3"
    },
    "language_info": {
      "name": "python"
    }
  },
  "cells": [
    {
      "cell_type": "markdown",
      "metadata": {
        "id": "view-in-github",
        "colab_type": "text"
      },
      "source": [
        "<a href=\"https://colab.research.google.com/github/a18091986/MATH/blob/advanced-math-introduction/5_HW_Probability_Theory_Elements.ipynb\" target=\"_parent\"><img src=\"https://colab.research.google.com/assets/colab-badge.svg\" alt=\"Open In Colab\"/></a>"
      ]
    },
    {
      "cell_type": "code",
      "source": [
        "import numpy as np\n",
        "import matplotlib.pyplot as plt\n",
        "import math\n",
        "import itertools"
      ],
      "metadata": {
        "id": "U0SSnq5pz6Q1"
      },
      "execution_count": 40,
      "outputs": []
    },
    {
      "cell_type": "markdown",
      "source": [
        "## Задание 1 \n",
        "\n",
        "Напишите код, моделирующий выпадение поля в рулетке (с учетом поля зеро)."
      ],
      "metadata": {
        "id": "lkHcz-Q5uzga"
      }
    },
    {
      "cell_type": "code",
      "source": [
        "for i in range(0,5):\n",
        "  a = input()\n",
        "  x = np.random.uniform(0,36)\n",
        "  print(int(round(x,0)))"
      ],
      "metadata": {
        "colab": {
          "base_uri": "https://localhost:8080/"
        },
        "id": "0ftyWgA3z8Z8",
        "outputId": "8c7d170e-4296-4184-9811-7f9894856302"
      },
      "execution_count": 7,
      "outputs": [
        {
          "output_type": "stream",
          "name": "stdout",
          "text": [
            "\n",
            "0\n",
            "\n",
            "33\n",
            "\n",
            "9\n",
            "\n",
            "22\n",
            "\n",
            "11\n"
          ]
        }
      ]
    },
    {
      "cell_type": "markdown",
      "source": [
        "## Задание 2\n",
        "\n",
        "__2.1__Напишите код, проверяющий любую из теорем сложения или умножения вероятности на примере рулетки или подбрасывания монетки.\n",
        "\n",
        "__2.2__Сгенерируйте десять выборок случайных чисел х0, …, х9.\n",
        "и постройте гистограмму распределения случайной суммы  +х0+ …+ х 9. \n"
      ],
      "metadata": {
        "id": "xnrLHx_yu4ya"
      }
    },
    {
      "cell_type": "code",
      "source": [
        "#2.1 Проверим на примере подбрасывания монетки что P(A+B) = P(A) + P(B) = 1\n",
        "o,r = 0,0\n",
        "n = 100000\n",
        "for i in range(0,n):\n",
        "  x = np.random.uniform(0,10)\n",
        "  if x < 5:\n",
        "    o += 1\n",
        "  else:\n",
        "    r += 1\n",
        "print(f'Вероятность выпадения орла на основе {n} экспериментов: {o/n}\\n'\n",
        "        f'Вероятность выпадения решки на основе {n} экспериментов: {r/n}\\n'\n",
        "        f'Суммарная вероятность:{r/n + o/n}\\n')\n",
        "\n"
      ],
      "metadata": {
        "colab": {
          "base_uri": "https://localhost:8080/"
        },
        "id": "za3tg38w9k2F",
        "outputId": "c48beca6-fa28-4069-ffa6-038bf50ef142"
      },
      "execution_count": 14,
      "outputs": [
        {
          "output_type": "stream",
          "name": "stdout",
          "text": [
            "Вероятность выпадения орла на основе 100000 экспериментов: 0.49864\n",
            "Вероятность выпадения решки на основе 100000 экспериментов: 0.50136\n",
            "Суммарная вероятность:1.0\n",
            "\n"
          ]
        }
      ]
    },
    {
      "cell_type": "code",
      "source": [
        "#2.2 \n",
        "sum = []\n",
        "for i in range(1000): #решил сгенерировать 1000, а не 10\n",
        "  sum.append(np.random.rand(10).sum())\n",
        "n, bins, patches = plt.hist(sum, 100)\n",
        "plt.xlabel('sum')\n",
        "plt.ylabel('Probability')\n",
        "plt.title('Histogram')\n",
        "plt.show()"
      ],
      "metadata": {
        "colab": {
          "base_uri": "https://localhost:8080/",
          "height": 295
        },
        "id": "cYgHHCNRAYvF",
        "outputId": "5bc73ad1-88c3-4bae-9435-f09052568233"
      },
      "execution_count": 24,
      "outputs": [
        {
          "output_type": "display_data",
          "data": {
            "image/png": "[encoded data removed]",
            "text/plain": [
              "<Figure size 432x288 with 1 Axes>"
            ]
          },
          "metadata": {
            "needs_background": "light"
          }
        }
      ]
    },
    {
      "cell_type": "markdown",
      "source": [
        "## Задание 3\n",
        "\n",
        "__3.1__ Дополните код Монте-Карло последовательности независимых испытаний расчетом соответствующих вероятностей (через биномиальное распределение) \n",
        "и сравните результаты.\n",
        "\n",
        "__3.2__ Повторите расчеты биномиальных коэффициентов и вероятностей k успехов в последовательности из n независимых испытаний, взяв другие значения n и k.\n"
      ],
      "metadata": {
        "id": "N4YGYLwbu47i"
      }
    },
    {
      "cell_type": "code",
      "source": [
        "#3.1\n",
        "\n",
        "def C_n_k(n,k):\n",
        "  return math.factorial(n)/(math.factorial(k)*math.factorial(n-k))\n",
        "\n",
        "p = 1/2\n",
        "q = 1/2\n",
        "k,n = 0, 1000000\n",
        "a = np.random.randint(0,2,n)\n",
        "b = np.random.randint(0,2,n)\n",
        "c = np.random.randint(0,2,n)\n",
        "d = np.random.randint(0,2,n)\n",
        "x = a + b + c + d\n",
        "for i in range(0,n):\n",
        "  if x[i] == 2:\n",
        "    k = k + 1\n",
        "# print(a,b,c,d)\n",
        "# print(x)\n",
        "print(k, n, k/n, C_n_k(4,2)*p**2*q**2)"
      ],
      "metadata": {
        "colab": {
          "base_uri": "https://localhost:8080/"
        },
        "id": "fCEkdyyaEC5_",
        "outputId": "88183825-1669-4b1f-8f0c-462cc67984ec"
      },
      "execution_count": 35,
      "outputs": [
        {
          "output_type": "stream",
          "name": "stdout",
          "text": [
            "374691 1000000 0.374691 0.375\n"
          ]
        }
      ]
    },
    {
      "cell_type": "code",
      "source": [
        "#3.2\n",
        "def C_n_k(n,k):\n",
        "  return math.factorial(n)/(math.factorial(k)*math.factorial(n-k))\n",
        "\n",
        "p = 1/2\n",
        "q = 1/2\n",
        "k,n = 0, 1000000\n",
        "a = np.random.randint(0,2,n)\n",
        "b = np.random.randint(0,2,n)\n",
        "c = np.random.randint(0,2,n)\n",
        "d = np.random.randint(0,2,n)\n",
        "x = a + b + c + d\n",
        "for i in range(0,n):\n",
        "  if x[i] == 3:\n",
        "    k = k + 1\n",
        "# print(a,b,c,d)\n",
        "# print(x)\n",
        "print(k, n, k/n, C_n_k(4,3)*p**3*q)"
      ],
      "metadata": {
        "colab": {
          "base_uri": "https://localhost:8080/"
        },
        "id": "BCocOjf7FR6M",
        "outputId": "50e518eb-c0a1-4d08-824b-1a3eae4a1e8f"
      },
      "execution_count": 37,
      "outputs": [
        {
          "output_type": "stream",
          "name": "stdout",
          "text": [
            "249841 1000000 0.249841 0.25\n"
          ]
        }
      ]
    },
    {
      "cell_type": "markdown",
      "source": [
        "## Задание 4\n",
        "\n",
        "(не обязательно, но желательно) Из урока по комбинаторике повторите расчеты, сгенерировав возможные варианты перестановок для других значений n и k"
      ],
      "metadata": {
        "id": "FUi6jwOLu5qS"
      }
    },
    {
      "cell_type": "code",
      "source": [
        "def A_n_k(n,k):\n",
        "  mult = 1\n",
        "  for i in range(n-k+1,n+1):\n",
        "    mult *= i\n",
        "  return mult\n",
        "\n",
        "count = 0\n",
        "for p in itertools.permutations(\"012345\", 5): #размещения (перестановки)\n",
        "  count += 1\n",
        "  print(''.join(str(x) for x in p), end = ' ')\n",
        "print()\n",
        "print(count)\n",
        "print(A_n_k(6,5))"
      ],
      "metadata": {
        "colab": {
          "base_uri": "https://localhost:8080/"
        },
        "id": "VRPnGRHYIJ_c",
        "outputId": "c50a5b06-71e7-4956-c1ee-557339b15a8a"
      },
      "execution_count": 55,
      "outputs": [
        {
          "output_type": "stream",
          "name": "stdout",
          "text": [
            "01234 01235 01243 01245 01253 01254 01324 01325 01342 01345 01352 01354 01423 01425 01432 01435 01452 01453 01523 01524 01532 01534 01542 01543 02134 02135 02143 02145 02153 02154 02314 02315 02341 02345 02351 02354 02413 02415 02431 02435 02451 02453 02513 02514 02531 02534 02541 02543 03124 03125 03142 03145 03152 03154 03214 03215 03241 03245 03251 03254 03412 03415 03421 03425 03451 03452 03512 03514 03521 03524 03541 03542 04123 04125 04132 04135 04152 04153 04213 04215 04231 04235 04251 04253 04312 04315 04321 04325 04351 04352 04512 04513 04521 04523 04531 04532 05123 05124 05132 05134 05142 05143 05213 05214 05231 05234 05241 05243 05312 05314 05321 05324 05341 05342 05412 05413 05421 05423 05431 05432 10234 10235 10243 10245 10253 10254 10324 10325 10342 10345 10352 10354 10423 10425 10432 10435 10452 10453 10523 10524 10532 10534 10542 10543 12034 12035 12043 12045 12053 12054 12304 12305 12340 12345 12350 12354 12403 12405 12430 12435 12450 12453 12503 12504 12530 12534 12540 12543 13024 13025 13042 13045 13052 13054 13204 13205 13240 13245 13250 13254 13402 13405 13420 13425 13450 13452 13502 13504 13520 13524 13540 13542 14023 14025 14032 14035 14052 14053 14203 14205 14230 14235 14250 14253 14302 14305 14320 14325 14350 14352 14502 14503 14520 14523 14530 14532 15023 15024 15032 15034 15042 15043 15203 15204 15230 15234 15240 15243 15302 15304 15320 15324 15340 15342 15402 15403 15420 15423 15430 15432 20134 20135 20143 20145 20153 20154 20314 20315 20341 20345 20351 20354 20413 20415 20431 20435 20451 20453 20513 20514 20531 20534 20541 20543 21034 21035 21043 21045 21053 21054 21304 21305 21340 21345 21350 21354 21403 21405 21430 21435 21450 21453 21503 21504 21530 21534 21540 21543 23014 23015 23041 23045 23051 23054 23104 23105 23140 23145 23150 23154 23401 23405 23410 23415 23450 23451 23501 23504 23510 23514 23540 23541 24013 24015 24031 24035 24051 24053 24103 24105 24130 24135 24150 24153 24301 24305 24310 24315 24350 24351 24501 24503 24510 24513 24530 24531 25013 25014 25031 25034 25041 25043 25103 25104 25130 25134 25140 25143 25301 25304 25310 25314 25340 25341 25401 25403 25410 25413 25430 25431 30124 30125 30142 30145 30152 30154 30214 30215 30241 30245 30251 30254 30412 30415 30421 30425 30451 30452 30512 30514 30521 30524 30541 30542 31024 31025 31042 31045 31052 31054 31204 31205 31240 31245 31250 31254 31402 31405 31420 31425 31450 31452 31502 31504 31520 31524 31540 31542 32014 32015 32041 32045 32051 32054 32104 32105 32140 32145 32150 32154 32401 32405 32410 32415 32450 32451 32501 32504 32510 32514 32540 32541 34012 34015 34021 34025 34051 34052 34102 34105 34120 34125 34150 34152 34201 34205 34210 34215 34250 34251 34501 34502 34510 34512 34520 34521 35012 35014 35021 35024 35041 35042 35102 35104 35120 35124 35140 35142 35201 35204 35210 35214 35240 35241 35401 35402 35410 35412 35420 35421 40123 40125 40132 40135 40152 40153 40213 40215 40231 40235 40251 40253 40312 40315 40321 40325 40351 40352 40512 40513 40521 40523 40531 40532 41023 41025 41032 41035 41052 41053 41203 41205 41230 41235 41250 41253 41302 41305 41320 41325 41350 41352 41502 41503 41520 41523 41530 41532 42013 42015 42031 42035 42051 42053 42103 42105 42130 42135 42150 42153 42301 42305 42310 42315 42350 42351 42501 42503 42510 42513 42530 42531 43012 43015 43021 43025 43051 43052 43102 43105 43120 43125 43150 43152 43201 43205 43210 43215 43250 43251 43501 43502 43510 43512 43520 43521 45012 45013 45021 45023 45031 45032 45102 45103 45120 45123 45130 45132 45201 45203 45210 45213 45230 45231 45301 45302 45310 45312 45320 45321 50123 50124 50132 50134 50142 50143 50213 50214 50231 50234 50241 50243 50312 50314 50321 50324 50341 50342 50412 50413 50421 50423 50431 50432 51023 51024 51032 51034 51042 51043 51203 51204 51230 51234 51240 51243 51302 51304 51320 51324 51340 51342 51402 51403 51420 51423 51430 51432 52013 52014 52031 52034 52041 52043 52103 52104 52130 52134 52140 52143 52301 52304 52310 52314 52340 52341 52401 52403 52410 52413 52430 52431 53012 53014 53021 53024 53041 53042 53102 53104 53120 53124 53140 53142 53201 53204 53210 53214 53240 53241 53401 53402 53410 53412 53420 53421 54012 54013 54021 54023 54031 54032 54102 54103 54120 54123 54130 54132 54201 54203 54210 54213 54230 54231 54301 54302 54310 54312 54320 54321 \n",
            "720\n",
            "720\n"
          ]
        }
      ]
    },
    {
      "cell_type": "markdown",
      "source": [
        "## Задание 5\n",
        "\n",
        "(не обязательно) Дополните код расчетом коэффициента корреляции x и y по формуле\n",
        "\n",
        "$$R = \\frac{\\sum(x_i - x_m)(y_i - y_m)}{\\sqrt{∑(x_i - x_m)^2∑(y_i - y_m)^2}}$$"
      ],
      "metadata": {
        "id": "srFNu1Ngu5w6"
      }
    },
    {
      "cell_type": "code",
      "source": [
        "n = 100\n",
        "r = 0.7\n",
        "x = np.random.rand(n)\n",
        "\n",
        "y = r*x + (1 - r)*np.random.rand(n)\n",
        "\n",
        "R = np.sum((x-x.mean())*(y-y.mean()))/(np.sum((x-x.mean())**2)*np.sum((y-y.mean())**2))**0.5\n",
        "c = np.corrcoef(x,y)\n",
        "\n",
        "print(R)\n",
        "print(c[1,0])"
      ],
      "metadata": {
        "colab": {
          "base_uri": "https://localhost:8080/"
        },
        "id": "KFGbwbIANbbb",
        "outputId": "1d76a61f-a924-496b-aaa5-c2eb415ab535"
      },
      "execution_count": 61,
      "outputs": [
        {
          "output_type": "stream",
          "name": "stdout",
          "text": [
            "0.9007964233581227\n",
            "0.9007964233581226\n"
          ]
        }
      ]
    }
  ]
}