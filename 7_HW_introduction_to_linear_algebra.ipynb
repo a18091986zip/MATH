{
  "nbformat": 4,
  "nbformat_minor": 0,
  "metadata": {
    "colab": {
      "name": "7_HW introduction to linear algebra.ipynb",
      "provenance": [],
      "authorship_tag": "ABX9TyM4YnJC2+CszDzvbcntACMv",
      "include_colab_link": true
    },
    "kernelspec": {
      "name": "python3",
      "display_name": "Python 3"
    },
    "language_info": {
      "name": "python"
    }
  },
  "cells": [
    {
      "cell_type": "markdown",
      "metadata": {
        "id": "view-in-github",
        "colab_type": "text"
      },
      "source": [
        "<a href=\"https://colab.research.google.com/github/a18091986/MATH/blob/advanced-math-introduction/7_HW_introduction_to_linear_algebra.ipynb\" target=\"_parent\"><img src=\"https://colab.research.google.com/assets/colab-badge.svg\" alt=\"Open In Colab\"/></a>"
      ]
    },
    {
      "cell_type": "code",
      "source": [
        "import numpy as np\n",
        "import warnings \n",
        "warnings.filterwarnings('ignore')\n",
        "import scipy\n",
        "import scipy.linalg"
      ],
      "metadata": {
        "id": "gmvmbLmGMriy"
      },
      "execution_count": 100,
      "outputs": []
    },
    {
      "cell_type": "markdown",
      "source": [
        "# Первая часть"
      ],
      "metadata": {
        "id": "eA-JEaQUvVOD"
      }
    },
    {
      "cell_type": "markdown",
      "source": [
        "## Задание 1\n",
        "Вычислите, по возможности не используя программирование: $(5E)^{-1}$ где Е – единичная матрица размера 5х5.\n",
        "\n"
      ],
      "metadata": {
        "id": "5tZ6WHJFvi7P"
      }
    },
    {
      "cell_type": "markdown",
      "source": [
        "Ответ:\n",
        "$\\left|\n",
        "\\begin{array}{cccc}\n",
        "0.2 & 0 & 0 & 0 & 0\\\\\n",
        "0 & 0.2 & 0 & 0 & 0\\\\\n",
        "0 & 0 & 0.2 & 0 & 0\\\\\n",
        "0 & 0 & 0 & 0.2 & 0\\\\\n",
        "0 & 0 & 0 & 0 & 0.2\\\\\n",
        "\\end{array}\n",
        "\\right|$"
      ],
      "metadata": {
        "id": "fadi0KfpNWl2"
      }
    },
    {
      "cell_type": "code",
      "source": [
        "#проверка:\n",
        "a = 0.2*np.identity(5)\n",
        "b = 5 * np.identity(5)\n",
        "(a@b == np.identity(5)).all()"
      ],
      "metadata": {
        "colab": {
          "base_uri": "https://localhost:8080/"
        },
        "id": "tiJa_95RMvpe",
        "outputId": "895a6d71-820f-4669-c639-97a6d28b6473"
      },
      "execution_count": 10,
      "outputs": [
        {
          "output_type": "execute_result",
          "data": {
            "text/plain": [
              "True"
            ]
          },
          "metadata": {},
          "execution_count": 10
        }
      ]
    },
    {
      "cell_type": "markdown",
      "source": [
        "## Задание 2\n",
        "\n",
        "Вычислите определитель \n",
        "$\\left|\n",
        "\\begin{array}{cccc}\n",
        "1 & 2 & 3\\\\\n",
        "4 & 0 & 6\\\\\n",
        "7 & 8 & 9\\\\\n",
        "\\end{array}\n",
        "\\right|$"
      ],
      "metadata": {
        "id": "k3yQWkItvxJM"
      }
    },
    {
      "cell_type": "markdown",
      "metadata": {
        "collapsed": false,
        "id": "5oBY9_e8Xl6e"
      },
      "source": [
        "## $\\det A = \\left|\n",
        "\\begin{array}{cccc}\n",
        "1 & 2 & 3\\\\\n",
        "4 & 0 & 6\\\\\n",
        "7 & 8 & 9\n",
        "\\end{array}\n",
        "\\right|=\n",
        "1\\left| \n",
        "\\begin{array}{cccc}\n",
        "0 & 6\\\\ \n",
        "8 & 9\n",
        "\\end{array} \n",
        "\\right|\n",
        "-2\\left| \n",
        "\\begin{array}{cccc}\n",
        "4 & 6\\\\ \n",
        "7 & 9\n",
        "\\end{array} \n",
        "\\right|\n",
        "+3\\left| \n",
        "\\begin{array}{cccc}\n",
        "4 & 0\\\\ \n",
        "7 & 8\n",
        "\\end{array} \n",
        "\\right|= -48 + 12 +96 = 60\n",
        "$\n"
      ]
    },
    {
      "cell_type": "code",
      "source": [
        "#проверка\n",
        "\n",
        "A = np.array([[1,2,3],[4,0,6],[7,8,9]])\n",
        "deta = np.linalg.det(A)\n",
        "round(deta)"
      ],
      "metadata": {
        "colab": {
          "base_uri": "https://localhost:8080/"
        },
        "id": "rWn_l2XeSbua",
        "outputId": "d7f48212-bd54-49bb-dbb8-51ce4321cfef"
      },
      "execution_count": 13,
      "outputs": [
        {
          "output_type": "execute_result",
          "data": {
            "text/plain": [
              "60"
            ]
          },
          "metadata": {},
          "execution_count": 13
        }
      ]
    },
    {
      "cell_type": "markdown",
      "source": [
        ""
      ],
      "metadata": {
        "id": "Pvnxnb7mwP62"
      }
    },
    {
      "cell_type": "markdown",
      "source": [
        "## Задание 3.1\n",
        "\n",
        "Вычислите матрицу, обратную данной\n",
        "$\\left(\n",
        "\\begin{array}{cccc}\n",
        "1 & 2 & 3\\\\\n",
        "4 & 0 & 6\\\\\n",
        "7 & 8 & 9\\\\\n",
        "\\end{array}\n",
        "\\right)$\n",
        "\n",
        "$A = \\left(\n",
        "\\begin{array}{cccc}\n",
        "1 & 2 & 3\\\\\n",
        "4 & 0 & 6\\\\\n",
        "7 & 8 & 9\\\\\n",
        "\\end{array}\n",
        "\\right)$\n",
        "\n",
        "$M = \\left(\n",
        "\\begin{array}{cccc}\n",
        "-48 & -6 & 32\\\\\n",
        "-6 & -12 & -6\\\\\n",
        "12 & -6 & -8\\\\\n",
        "\\end{array}\n",
        "\\right)$ матрица миноров\n",
        "\n",
        "$A_{*} = \\left(\n",
        "\\begin{array}{cccc}\n",
        "-48 & 6 & 32\\\\\n",
        "6 & -12 & 6\\\\\n",
        "12 & 6 & -8\\\\\n",
        "\\end{array}\n",
        "\\right)$ матрица алгебраических дополнений\n",
        "\n",
        "$A_{*}^T = \\left(\n",
        "\\begin{array}{cccc}\n",
        "-48 & 6 & 12\\\\\n",
        "6 & -12 & 6\\\\\n",
        "32 & 6 & -8\\\\\n",
        "\\end{array}\n",
        "\\right)$\n",
        "\n",
        "$A^{-1} = \\frac{A^T_*}{detA} = \\left(\n",
        "\\begin{array}{cccc}\n",
        "-0.8 & 0.1& 0.2\\\\\n",
        "0.1 & -0.2& 0.1\\\\\n",
        "\\frac{8}{15} & 0.1& -\\frac{2}{15}\\\\\n",
        "\\end{array}\n",
        "\\right)$ искомая обратная матрица\n",
        "\n",
        "\n",
        "## Задание 3.2\n",
        "\n",
        "Приведите пример матрицы 4х4, ранг которой равен 1\n",
        "\n",
        "$\\left(\n",
        "\\begin{array}{cccc}\n",
        "0 & 0 & 0 & 0\\\\\n",
        "0 & 0 & 0 & 0\\\\\n",
        "0 & 0 & 0 & 0\\\\\n",
        "1 & 1 & 1 & 1\\\\\n",
        "\\end{array}\n",
        "\\right)$"
      ],
      "metadata": {
        "id": "ZIS0-2q3wQEl"
      }
    },
    {
      "cell_type": "code",
      "source": [
        "#3.1 проверка\n",
        "A = np.array([[1,2,3],[4,0,6],[7,8,9]])\n",
        "A1 = np.linalg.inv(A)\n",
        "A1"
      ],
      "metadata": {
        "colab": {
          "base_uri": "https://localhost:8080/"
        },
        "id": "QavV7kjuUwha",
        "outputId": "80a0fab0-e8da-42a1-d6cb-2586c2b295d8"
      },
      "execution_count": 4,
      "outputs": [
        {
          "output_type": "execute_result",
          "data": {
            "text/plain": [
              "array([[-0.8       ,  0.1       ,  0.2       ],\n",
              "       [ 0.1       , -0.2       ,  0.1       ],\n",
              "       [ 0.53333333,  0.1       , -0.13333333]])"
            ]
          },
          "metadata": {},
          "execution_count": 4
        }
      ]
    },
    {
      "cell_type": "code",
      "source": [
        "#3.2 проверка\n",
        "A = np.array([[0,0,0,0],[0,0,0,0],[0,0,0,0],[1,1,1,1]])\n",
        "\n",
        "np.linalg.matrix_rank(A)"
      ],
      "metadata": {
        "colab": {
          "base_uri": "https://localhost:8080/"
        },
        "id": "4I80AS9yZElU",
        "outputId": "1f69e373-5198-4c69-fede-fe046e4469f5"
      },
      "execution_count": 14,
      "outputs": [
        {
          "output_type": "execute_result",
          "data": {
            "text/plain": [
              "1"
            ]
          },
          "metadata": {},
          "execution_count": 14
        }
      ]
    },
    {
      "cell_type": "markdown",
      "source": [
        "##Задание 4 \n",
        "Вычислите скалярное произведение двух векторов\n",
        "\n",
        "(1,5) и (2,8)"
      ],
      "metadata": {
        "id": "ccwGbsHswqJn"
      }
    },
    {
      "cell_type": "markdown",
      "source": [
        "$\\vec a \\cdot \\vec b = 42$"
      ],
      "metadata": {
        "id": "wrmhF--iw0rF"
      }
    },
    {
      "cell_type": "code",
      "source": [
        "a = np.array([1,5])\n",
        "b = np.array([2,8])\n",
        "a@b"
      ],
      "metadata": {
        "colab": {
          "base_uri": "https://localhost:8080/"
        },
        "id": "WjXPAl9kuJuF",
        "outputId": "19453f3b-37f3-400f-b364-ef54b3c7b09c"
      },
      "execution_count": 15,
      "outputs": [
        {
          "output_type": "execute_result",
          "data": {
            "text/plain": [
              "42"
            ]
          },
          "metadata": {},
          "execution_count": 15
        }
      ]
    },
    {
      "cell_type": "markdown",
      "source": [
        "##Задание 5 \n",
        "Вычислите смешанное произведение трёх векторов\n",
        "\n",
        "(1,5,0),(2,8,7) и (7,1.5,3)"
      ],
      "metadata": {
        "id": "M2vTBGPiw4Gt"
      }
    },
    {
      "cell_type": "code",
      "source": [
        "a = np.array([1,5,0])\n",
        "b = np.array([2,8,7])\n",
        "c = np.array([7,1.5,3])\n",
        "\n",
        "print(np.cross(a,b)@c)\n",
        "print(a@np.cross(b,c))"
      ],
      "metadata": {
        "colab": {
          "base_uri": "https://localhost:8080/"
        },
        "id": "NceyKzTjyC5G",
        "outputId": "ed87cbcb-678d-4d74-9388-d1446f552a25"
      },
      "execution_count": 31,
      "outputs": [
        {
          "output_type": "stream",
          "name": "stdout",
          "text": [
            "228.5\n",
            "228.5\n"
          ]
        }
      ]
    },
    {
      "cell_type": "markdown",
      "source": [
        "# Вторая часть"
      ],
      "metadata": {
        "id": "awNmd0SRxGag"
      }
    },
    {
      "cell_type": "markdown",
      "source": [
        "## Задание 1\n",
        "\n",
        "Решите линейную систему $\\left[\n",
        "\\begin{array}{cccc}\n",
        "1 & 2 & 3\\\\\n",
        "4 & 0 & 6\\\\\n",
        "7 & 8 & 9\\\\\n",
        "\\end{array}\n",
        "\\right] \\cdot X = \\left[\n",
        "\\begin{array}{cccc}\n",
        "12\\\\\n",
        "2\\\\\n",
        "1\\\\\n",
        "\\end{array}\n",
        "\\right]$"
      ],
      "metadata": {
        "id": "9cbK2aBHxINI"
      }
    },
    {
      "cell_type": "code",
      "source": [
        "A = np.array([[1,2,3],[4,0,6],[7,8,9]])\n",
        "B = np.array([12,2,1])\n",
        "X = np.linalg.solve(A,B)\n",
        "X"
      ],
      "metadata": {
        "colab": {
          "base_uri": "https://localhost:8080/"
        },
        "id": "Js8UjL0hDGIO",
        "outputId": "5aeeb5b9-009b-4308-b4dd-6bc17c058a8b"
      },
      "execution_count": 35,
      "outputs": [
        {
          "output_type": "execute_result",
          "data": {
            "text/plain": [
              "array([-9.2       ,  0.9       ,  6.46666667])"
            ]
          },
          "metadata": {},
          "execution_count": 35
        }
      ]
    },
    {
      "cell_type": "markdown",
      "source": [
        "## Задание 2\n",
        "\n",
        "Найдите псевдорешение \n",
        "\n",
        "$x + 2y - z = 1$\n",
        "\n",
        "$3x - 4y = 7$\n",
        "\n",
        "$8x - 5y +2z = 12$\n",
        "\n",
        "$2x - 5z = 7$\n",
        "\n",
        "$11x + 4y - 7z = 15$"
      ],
      "metadata": {
        "id": "02A4bxJrxoJC"
      }
    },
    {
      "cell_type": "code",
      "source": [
        "A = np.array([[1,2,-1],[3,-4, 0],[8, -5, 2],[2, 0, -5], [11, 4,-7]])\n",
        "B = np.array([1,7,12,7,15])\n",
        "for i in np.linalg.lstsq(A,B)[0]:\n",
        "  print(i, end = ' ')"
      ],
      "metadata": {
        "colab": {
          "base_uri": "https://localhost:8080/"
        },
        "id": "lF4JDrSxHUjH",
        "outputId": "4f2a6b82-00c7-4b31-a53f-773868809b9d"
      },
      "execution_count": 40,
      "outputs": [
        {
          "output_type": "stream",
          "name": "stdout",
          "text": [
            "1.1391935264660067 -0.9049844399605509 -0.9009802999097413 "
          ]
        }
      ]
    },
    {
      "cell_type": "markdown",
      "source": [
        "## Задание 3\n",
        "\n",
        "Сколько решений имеет линейная система $\\left[\n",
        "\\begin{array}{cccc}\n",
        "1 & 2 & 3\\\\\n",
        "4 & 5 & 6\\\\\n",
        "7 & 8 & 9\\\\\n",
        "\\end{array}\n",
        "\\right] \\cdot X = \\left[\n",
        "\\begin{array}{cccc}\n",
        "12\\\\\n",
        "2\\\\\n",
        "1\\\\\n",
        "\\end{array}\n",
        "\\right]$\n",
        "\n",
        "Если ноль - то измените вектор правой части так, чтобы система стала совместной и решите её."
      ],
      "metadata": {
        "id": "uqKEK5i8x_TL"
      }
    },
    {
      "cell_type": "code",
      "source": [
        "A = np.array([[1,2,3],[4,5,6],[7,8,9]])\n",
        "B = np.array([12,2,1])\n",
        "# print(np.linalg.solve(A,B))\n",
        "#система не имеет решений\n",
        "B = np.array([22,49,76])\n",
        "np.linalg.lstsq(A,B)\n",
        "\n"
      ],
      "metadata": {
        "colab": {
          "base_uri": "https://localhost:8080/"
        },
        "id": "iI-uKSVxRFog",
        "outputId": "6a51ccff-db28-4670-e12c-aa4251e2b2f0"
      },
      "execution_count": 98,
      "outputs": [
        {
          "output_type": "execute_result",
          "data": {
            "text/plain": [
              "(array([1., 3., 5.]),\n",
              " array([], dtype=float64),\n",
              " 2,\n",
              " array([1.68481034e+01, 1.06836951e+00, 3.33475287e-16]))"
            ]
          },
          "metadata": {},
          "execution_count": 98
        }
      ]
    },
    {
      "cell_type": "markdown",
      "source": [
        "## Задание 4\n",
        "\n",
        "Вычислите LU-разложение матрицы $\\left[\n",
        "\\begin{array}{cccc}\n",
        "1 & 2 & 3\\\\\n",
        "2 & 16 & 21\\\\\n",
        "4 & 28 & 73\\\\\n",
        "\\end{array}\n",
        "\\right]$"
      ],
      "metadata": {
        "id": "lzK8R_ghyQSQ"
      }
    },
    {
      "cell_type": "code",
      "source": [
        "A = np.array([ [1, 2, 3], [2, 16, 21], [4, 28, 73]])\n",
        "P, L, U = scipy.linalg.lu(A)\n",
        "\n",
        "print(P)\n",
        "print(L)\n",
        "print(U)\n",
        "\n",
        "print(np.dot(P.transpose(), A) - np.dot(L, U))"
      ],
      "metadata": {
        "colab": {
          "base_uri": "https://localhost:8080/"
        },
        "id": "pfYaSejY276n",
        "outputId": "5930c8b3-7328-4990-f1a4-213b7af4acb6"
      },
      "execution_count": 101,
      "outputs": [
        {
          "output_type": "stream",
          "name": "stdout",
          "text": [
            "[[0. 1. 0.]\n",
            " [0. 0. 1.]\n",
            " [1. 0. 0.]]\n",
            "[[ 1.    0.    0.  ]\n",
            " [ 0.25  1.    0.  ]\n",
            " [ 0.5  -0.4   1.  ]]\n",
            "[[  4.    28.    73.  ]\n",
            " [  0.    -5.   -15.25]\n",
            " [  0.     0.   -21.6 ]]\n",
            "[[0. 0. 0.]\n",
            " [0. 0. 0.]\n",
            " [0. 0. 0.]]\n"
          ]
        }
      ]
    },
    {
      "cell_type": "markdown",
      "source": [
        "## Задание 5 \n",
        "Найдите нормальное псевдорешение недоопределенной системы:\n",
        "\n",
        "$x + 2y -z = 1$\n",
        "\n",
        "$8x - 5y +2z = 12$\n",
        "\n",
        "Для этого определите функцию Q(x,y,z), равную норме решения и найдите её минимум"
      ],
      "metadata": {
        "id": "0ZhvXjiVyglU"
      }
    },
    {
      "cell_type": "code",
      "source": [
        "def Q(x, y, z):\n",
        "  return (x**2 + y**2 + z**2)\n",
        "from pylab import *\n",
        "from mpl_toolkits.mplot3d import Axes3D\n",
        "fig = figure()\n",
        "ax = Axes3D(fig)\n",
        "X = np.arange(-50, 50, 1)\n",
        "Y = np.arange(-50, 50, 1)\n",
        "X, Y = np.meshgrid(X, Y)\n",
        "ax.plot_surface(X, Y, Q(X, 5*X - 14, 21*X - 1))\n",
        "show()"
      ],
      "metadata": {
        "colab": {
          "base_uri": "https://localhost:8080/",
          "height": 319
        },
        "id": "fDvmhtsR69qV",
        "outputId": "78191f46-f314-4c44-efa7-2d0c4b8584f0"
      },
      "execution_count": 103,
      "outputs": [
        {
          "output_type": "display_data",
          "data": {
            "image/png": "[encoded data removed]",
            "text/plain": [
              "<Figure size 432x288 with 1 Axes>"
            ]
          },
          "metadata": {
            "needs_background": "light"
          }
        }
      ]
    },
    {
      "cell_type": "code",
      "source": [
        "A = np.array([[1, 2, -1], [8, -5, 2]])\n",
        "B = np.array([1, 12])\n",
        "np.linalg.lstsq(A, B)"
      ],
      "metadata": {
        "colab": {
          "base_uri": "https://localhost:8080/"
        },
        "id": "jepBM9Gp6-wU",
        "outputId": "94062f61-c387-49a3-aa36-e662c2f6373c"
      },
      "execution_count": 104,
      "outputs": [
        {
          "output_type": "execute_result",
          "data": {
            "text/plain": [
              "(array([ 1.38191882, -0.18081181,  0.0202952 ]),\n",
              " array([], dtype=float64),\n",
              " 2,\n",
              " array([9.65316119, 2.41173777]))"
            ]
          },
          "metadata": {},
          "execution_count": 104
        }
      ]
    },
    {
      "cell_type": "markdown",
      "source": [
        "## Задание 6\n",
        "\n",
        "Найдите одно из псевдорешений вырожденной системы: $\\left[\n",
        "\\begin{array}{cccc}\n",
        "1 & 2 & 3\\\\\n",
        "4 & 5 & 6\\\\\n",
        "7 & 8 & 9\\\\\n",
        "\\end{array}\n",
        "\\right] \\cdot X = \\left[\n",
        "\\begin{array}{cccc}\n",
        "2\\\\\n",
        "5\\\\\n",
        "11\\\\\n",
        "\\end{array}\n",
        "\\right]$\n",
        "\n",
        "Попробуйте также отыскать и нормальное псевдорешение."
      ],
      "metadata": {
        "id": "4l9YyRdSy9aV"
      }
    },
    {
      "cell_type": "code",
      "metadata": {
        "id": "r0nSj5yHaYZ5",
        "colab": {
          "base_uri": "https://localhost:8080/"
        },
        "outputId": "9e3b727d-a3e7-40bd-a2af-6dc4f1501911"
      },
      "source": [
        "A = np.array([ [1, 2, 3], [4, 5, 6], [7, 8, 9] ])\n",
        "B = np.array([2, 5, 11])\n",
        "Q, R = np.linalg.qr(A)\n",
        " \n",
        "print(A)\n",
        "print(Q)\n",
        "print(R)"
      ],
      "execution_count": 106,
      "outputs": [
        {
          "output_type": "stream",
          "name": "stdout",
          "text": [
            "[[1 2 3]\n",
            " [4 5 6]\n",
            " [7 8 9]]\n",
            "[[-0.12309149  0.90453403  0.40824829]\n",
            " [-0.49236596  0.30151134 -0.81649658]\n",
            " [-0.86164044 -0.30151134  0.40824829]]\n",
            "[[-8.12403840e+00 -9.60113630e+00 -1.10782342e+01]\n",
            " [ 0.00000000e+00  9.04534034e-01  1.80906807e+00]\n",
            " [ 0.00000000e+00  0.00000000e+00 -7.58790979e-16]]\n"
          ]
        }
      ]
    },
    {
      "cell_type": "code",
      "metadata": {
        "id": "4ZHNfcgFaYbH",
        "colab": {
          "base_uri": "https://localhost:8080/"
        },
        "outputId": "7a45cf49-6e6d-4cd9-d865-3e1310a448cf"
      },
      "source": [
        "print(np.dot(Q, R))\n",
        "print(np.dot(np.transpose(Q), Q))"
      ],
      "execution_count": 107,
      "outputs": [
        {
          "output_type": "stream",
          "name": "stdout",
          "text": [
            "[[1. 2. 3.]\n",
            " [4. 5. 6.]\n",
            " [7. 8. 9.]]\n",
            "[[ 1.00000000e+00 -2.48218629e-16 -2.62094065e-17]\n",
            " [-2.48218629e-16  1.00000000e+00  2.82872043e-17]\n",
            " [-2.62094065e-17  2.82872043e-17  1.00000000e+00]]\n"
          ]
        }
      ]
    },
    {
      "cell_type": "code",
      "metadata": {
        "id": "F9mnzcmRaYbU",
        "colab": {
          "base_uri": "https://localhost:8080/"
        },
        "outputId": "c0e313cc-b148-4246-f899-4e0c1c379f50"
      },
      "source": [
        "R1 = R[:2, :2]\n",
        "R1"
      ],
      "execution_count": 108,
      "outputs": [
        {
          "output_type": "execute_result",
          "data": {
            "text/plain": [
              "array([[-8.1240384 , -9.6011363 ],\n",
              "       [ 0.        ,  0.90453403]])"
            ]
          },
          "metadata": {},
          "execution_count": 108
        }
      ]
    },
    {
      "cell_type": "code",
      "metadata": {
        "id": "9jfX8ikGaYbe",
        "colab": {
          "base_uri": "https://localhost:8080/"
        },
        "outputId": "561a36b5-ebb0-4d9a-ad45-e57e5bb0c6d5"
      },
      "source": [
        "B1 = np.dot(np.transpose(Q), B)[:2]\n",
        "B1"
      ],
      "execution_count": 109,
      "outputs": [
        {
          "output_type": "execute_result",
          "data": {
            "text/plain": [
              "array([-1.21860576e+01,  3.33066907e-15])"
            ]
          },
          "metadata": {},
          "execution_count": 109
        }
      ]
    },
    {
      "cell_type": "code",
      "metadata": {
        "id": "jJp-3e7NaYbm",
        "colab": {
          "base_uri": "https://localhost:8080/"
        },
        "outputId": "cbf9e3b9-b59b-4d05-ca9a-a8e2c3655e00"
      },
      "source": [
        "X1 = np.linalg.solve(R1, B1)\n",
        "X1"
      ],
      "execution_count": 110,
      "outputs": [
        {
          "output_type": "execute_result",
          "data": {
            "text/plain": [
              "array([1.50000000e+00, 3.68219321e-15])"
            ]
          },
          "metadata": {},
          "execution_count": 110
        }
      ]
    },
    {
      "cell_type": "code",
      "metadata": {
        "id": "kadflFW-aYb4",
        "colab": {
          "base_uri": "https://localhost:8080/"
        },
        "outputId": "bd14e84d-0e43-40c5-95a6-4722779047f4"
      },
      "source": [
        "X = np.append(X1, 0)\n",
        "print (X)\n",
        "np.linalg.norm(X)"
      ],
      "execution_count": 111,
      "outputs": [
        {
          "output_type": "stream",
          "name": "stdout",
          "text": [
            "[1.50000000e+00 3.68219321e-15 0.00000000e+00]\n"
          ]
        },
        {
          "output_type": "execute_result",
          "data": {
            "text/plain": [
              "1.499999999999996"
            ]
          },
          "metadata": {},
          "execution_count": 111
        }
      ]
    },
    {
      "cell_type": "code",
      "metadata": {
        "id": "EqfWxRRLaYb_",
        "colab": {
          "base_uri": "https://localhost:8080/"
        },
        "outputId": "ad767915-537b-40ea-cc19-71caf2ea6cf2"
      },
      "source": [
        "np.linalg.norm(np.dot(A, X) - B)"
      ],
      "execution_count": 112,
      "outputs": [
        {
          "output_type": "execute_result",
          "data": {
            "text/plain": [
              "1.2247448713915892"
            ]
          },
          "metadata": {},
          "execution_count": 112
        }
      ]
    },
    {
      "cell_type": "code",
      "metadata": {
        "id": "cHuPBVNaaYcI",
        "colab": {
          "base_uri": "https://localhost:8080/"
        },
        "outputId": "24be2683-d474-44d0-abab-89e2ddaa61b7"
      },
      "source": [
        "X = np.array([1.5, 1, 0.5])\n",
        "np.linalg.norm(X),  np.linalg.norm(np.dot(A, X) - B)"
      ],
      "execution_count": 113,
      "outputs": [
        {
          "output_type": "execute_result",
          "data": {
            "text/plain": [
              "(1.8708286933869707, 15.297058540778355)"
            ]
          },
          "metadata": {},
          "execution_count": 113
        }
      ]
    }
  ]
}