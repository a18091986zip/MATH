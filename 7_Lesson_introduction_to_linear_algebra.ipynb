{
  "nbformat": 4,
  "nbformat_minor": 0,
  "metadata": {
    "colab": {
      "name": "7 Lesson introduction to linear algebra.ipynb",
      "provenance": [],
      "authorship_tag": "ABX9TyOixCyCWBZ7e90kRYqkXTo6",
      "include_colab_link": true
    },
    "kernelspec": {
      "name": "python3",
      "display_name": "Python 3"
    },
    "language_info": {
      "name": "python"
    }
  },
  "cells": [
    {
      "cell_type": "markdown",
      "metadata": {
        "id": "view-in-github",
        "colab_type": "text"
      },
      "source": [
        "<a href=\"https://colab.research.google.com/github/a18091986/MATH/blob/advanced-math-introduction/7_Lesson_introduction_to_linear_algebra.ipynb\" target=\"_parent\"><img src=\"https://colab.research.google.com/assets/colab-badge.svg\" alt=\"Open In Colab\"/></a>"
      ]
    },
    {
      "cell_type": "code",
      "source": [
        "import numpy as np\n",
        "import matplotlib.pyplot as plt\n",
        "import warnings \n",
        "warnings.filterwarnings('ignore')\n",
        "import scipy \n",
        "import scipy.linalg\n"
      ],
      "metadata": {
        "id": "M0VpIg0D3k1r"
      },
      "execution_count": 127,
      "outputs": []
    },
    {
      "cell_type": "markdown",
      "source": [
        "#Основные операции с матрицами\n",
        "\n",
        "Матрица - математический объект, записываемый в виде прямоугольной таблицы элементов, например - целых и действительных чисел\n",
        "\n",
        "Матрица представляет собой совокупность строк и столбцов, на пересечении которых находятся её элементы\n",
        "\n",
        "Количество строк и столбцов задает размер матрицы\n",
        "\n",
        "$A = \\left(\n",
        "\\begin{array}{cccc}\n",
        "a_{00} & a_{01} & \\ldots & a_{0n}\\\\\n",
        "a_{10} & a_{11} & \\ldots & a_{1n}\\\\\n",
        "\\vdots & \\vdots & \\ddots & \\vdots\\\\\n",
        "a_{m0} & a_{m1} & \\ldots & a_{mn}\n",
        "\\end{array}\n",
        "\\right)$"
      ],
      "metadata": {
        "id": "vhE9pO2XzSaB"
      }
    },
    {
      "cell_type": "code",
      "source": [
        "A = np.array([[1,2,3],[4,5,6],[7,8,9],[0,-1,12]], float)\n",
        "A"
      ],
      "metadata": {
        "colab": {
          "base_uri": "https://localhost:8080/"
        },
        "id": "OFNmiosD4Q1v",
        "outputId": "976fa81a-4e1b-420b-8738-8364139d1f05"
      },
      "execution_count": 78,
      "outputs": [
        {
          "output_type": "execute_result",
          "data": {
            "text/plain": [
              "array([[ 1.,  2.,  3.],\n",
              "       [ 4.,  5.,  6.],\n",
              "       [ 7.,  8.,  9.],\n",
              "       [ 0., -1., 12.]])"
            ]
          },
          "metadata": {},
          "execution_count": 78
        }
      ]
    },
    {
      "cell_type": "code",
      "source": [
        "print(A[2,1])"
      ],
      "metadata": {
        "colab": {
          "base_uri": "https://localhost:8080/"
        },
        "id": "dUSo2GZ04eUN",
        "outputId": "60a21bcc-0495-425e-8739-b8aa1e8c1f21"
      },
      "execution_count": 79,
      "outputs": [
        {
          "output_type": "stream",
          "name": "stdout",
          "text": [
            "8.0\n"
          ]
        }
      ]
    },
    {
      "cell_type": "code",
      "source": [
        "print(A.shape)"
      ],
      "metadata": {
        "colab": {
          "base_uri": "https://localhost:8080/"
        },
        "id": "8FfFP1wz4kpk",
        "outputId": "bf6a6381-51b6-4332-9fed-400b8109e1a7"
      },
      "execution_count": 80,
      "outputs": [
        {
          "output_type": "stream",
          "name": "stdout",
          "text": [
            "(4, 3)\n"
          ]
        }
      ]
    },
    {
      "cell_type": "markdown",
      "source": [
        "##Сложение, вычитание, умножение матриц"
      ],
      "metadata": {
        "id": "tp53oAqkzbkO"
      }
    },
    {
      "cell_type": "code",
      "source": [
        "B = A * 2\n",
        "B"
      ],
      "metadata": {
        "colab": {
          "base_uri": "https://localhost:8080/"
        },
        "id": "TBm9meq44oBT",
        "outputId": "0486f6e0-86b6-47bd-dda3-8d0a13b88981"
      },
      "execution_count": 81,
      "outputs": [
        {
          "output_type": "execute_result",
          "data": {
            "text/plain": [
              "array([[ 2.,  4.,  6.],\n",
              "       [ 8., 10., 12.],\n",
              "       [14., 16., 18.],\n",
              "       [ 0., -2., 24.]])"
            ]
          },
          "metadata": {},
          "execution_count": 81
        }
      ]
    },
    {
      "cell_type": "code",
      "source": [
        "C = A + 2\n",
        "C"
      ],
      "metadata": {
        "colab": {
          "base_uri": "https://localhost:8080/"
        },
        "id": "vAZfQ4ZI4sOK",
        "outputId": "cff8741c-a7b7-4d52-90ef-c9ab44778a55"
      },
      "execution_count": 82,
      "outputs": [
        {
          "output_type": "execute_result",
          "data": {
            "text/plain": [
              "array([[ 3.,  4.,  5.],\n",
              "       [ 6.,  7.,  8.],\n",
              "       [ 9., 10., 11.],\n",
              "       [ 2.,  1., 14.]])"
            ]
          },
          "metadata": {},
          "execution_count": 82
        }
      ]
    },
    {
      "cell_type": "code",
      "source": [
        "D = np.add(B,C)#поэлементное сложение матриц\n",
        "D1 = C + B\n",
        "\n",
        "(D == D1).all()"
      ],
      "metadata": {
        "colab": {
          "base_uri": "https://localhost:8080/"
        },
        "id": "TRl00cwM4yFJ",
        "outputId": "4384411d-b429-4b07-d278-2e7a4a5964d0"
      },
      "execution_count": 83,
      "outputs": [
        {
          "output_type": "execute_result",
          "data": {
            "text/plain": [
              "True"
            ]
          },
          "metadata": {},
          "execution_count": 83
        }
      ]
    },
    {
      "cell_type": "code",
      "source": [
        "D = np.subtract(B,C)\n",
        "D1 = B - C\n",
        "(D == D1).all()"
      ],
      "metadata": {
        "colab": {
          "base_uri": "https://localhost:8080/"
        },
        "id": "GEJbQPMq7oro",
        "outputId": "ac329aa8-643f-4fbd-f118-286e8519b386"
      },
      "execution_count": 84,
      "outputs": [
        {
          "output_type": "execute_result",
          "data": {
            "text/plain": [
              "True"
            ]
          },
          "metadata": {},
          "execution_count": 84
        }
      ]
    },
    {
      "cell_type": "markdown",
      "source": [
        "###Умножение матриц"
      ],
      "metadata": {
        "id": "orQcvHz-8yb_"
      }
    },
    {
      "cell_type": "markdown",
      "source": [
        "$G = D\\cdot F$\n",
        "\n",
        "$g_{ij} = d_{i0}f_{0j} + d_{i1}f_{1j} + ... + d_{in}f_{nj} = \\sum \\limits_{k=0}^{n-1}d_{ik}f_{kj}$\n",
        "\n",
        "Для перемножения матриц количество столбцов первой матрицы должно равняться количеству строк второй матрицы\n",
        "\n",
        "$A^{mхn} \\cdot B^{nхk}  = F^{mхk}$"
      ],
      "metadata": {
        "id": "Oag429Zy83xN"
      }
    },
    {
      "cell_type": "code",
      "source": [
        "D"
      ],
      "metadata": {
        "colab": {
          "base_uri": "https://localhost:8080/"
        },
        "id": "Owdhq9m78WF9",
        "outputId": "b2fde522-0199-4eca-c0ff-5714db1b0b71"
      },
      "execution_count": 85,
      "outputs": [
        {
          "output_type": "execute_result",
          "data": {
            "text/plain": [
              "array([[-1.,  0.,  1.],\n",
              "       [ 2.,  3.,  4.],\n",
              "       [ 5.,  6.,  7.],\n",
              "       [-2., -3., 10.]])"
            ]
          },
          "metadata": {},
          "execution_count": 85
        }
      ]
    },
    {
      "cell_type": "code",
      "source": [
        "F"
      ],
      "metadata": {
        "colab": {
          "base_uri": "https://localhost:8080/",
          "height": 165
        },
        "id": "yKhflrWd9kIM",
        "outputId": "9110e3dc-76c5-45e3-b85f-88658a3cc6e4"
      },
      "execution_count": 86,
      "outputs": [
        {
          "output_type": "error",
          "ename": "NameError",
          "evalue": "ignored",
          "traceback": [
            "\u001b[0;31m---------------------------------------------------------------------------\u001b[0m",
            "\u001b[0;31mNameError\u001b[0m                                 Traceback (most recent call last)",
            "\u001b[0;32m<ipython-input-86-f4d604803730>\u001b[0m in \u001b[0;36m<module>\u001b[0;34m()\u001b[0m\n\u001b[0;32m----> 1\u001b[0;31m \u001b[0mF\u001b[0m\u001b[0;34m\u001b[0m\u001b[0;34m\u001b[0m\u001b[0m\n\u001b[0m",
            "\u001b[0;31mNameError\u001b[0m: name 'F' is not defined"
          ]
        }
      ]
    },
    {
      "cell_type": "code",
      "source": [
        "i,j = 3,3\n",
        "Gij = D[i,0]*F[0,j] + D[i,1]*F[1,j] + D[i,2]*F[2,j]\n",
        "Gij"
      ],
      "metadata": {
        "id": "JqXo9oGA-gBe"
      },
      "execution_count": null,
      "outputs": []
    },
    {
      "cell_type": "code",
      "source": [
        "G = np.dot(D,F)\n",
        "G"
      ],
      "metadata": {
        "id": "8mtdmMkg9o9y"
      },
      "execution_count": null,
      "outputs": []
    },
    {
      "cell_type": "code",
      "source": [
        "A = np.array([[1,2],[3,4],[5,6]])\n",
        "A\n",
        "B = np.array(([1,2,3,4,5,6],[7,8,9,10,11,12]))\n",
        "B\n",
        "A@B"
      ],
      "metadata": {
        "id": "sIN-vKOmAx28"
      },
      "execution_count": null,
      "outputs": []
    },
    {
      "cell_type": "markdown",
      "source": [
        "##Транспонирование матрицы"
      ],
      "metadata": {
        "id": "3jrtWaqqzbrm"
      }
    },
    {
      "cell_type": "markdown",
      "source": [
        "Транспонированием матрицы называется операция, в результате которой \n",
        "столбцы исходной матрфы становятся строками итоговой, а строки - столбцами\n",
        "\n",
        "Если размер исходной матрицы $mхn$, то размер транспонированной матрицы $nхm$"
      ],
      "metadata": {
        "id": "ZtYKW8kV76JU"
      }
    },
    {
      "cell_type": "code",
      "source": [
        "D"
      ],
      "metadata": {
        "id": "_mX7U0cM74sk"
      },
      "execution_count": null,
      "outputs": []
    },
    {
      "cell_type": "code",
      "source": [
        "F = D.T\n",
        "F"
      ],
      "metadata": {
        "id": "vFK_n_228HfI"
      },
      "execution_count": null,
      "outputs": []
    },
    {
      "cell_type": "code",
      "source": [
        "F = D.transpose()\n",
        "F"
      ],
      "metadata": {
        "id": "NNt94DDv8LJg"
      },
      "execution_count": null,
      "outputs": []
    },
    {
      "cell_type": "code",
      "source": [
        ""
      ],
      "metadata": {
        "id": "QSzyM3f38N0H"
      },
      "execution_count": null,
      "outputs": []
    },
    {
      "cell_type": "markdown",
      "source": [
        "## Нулевая и единичная матрица\n",
        "\n",
        "E - единичная матрица\n",
        "O - нулевая матрица\n",
        "\n",
        "$A \\cdot E = E \\cdot A = A$\n",
        "\n",
        "$A \\cdot O = O \\cdot A = O$\n",
        "\n"
      ],
      "metadata": {
        "id": "LoLlZoR8zb0W"
      }
    },
    {
      "cell_type": "code",
      "source": [
        "e = np.identity(4)\n",
        "e"
      ],
      "metadata": {
        "id": "x9F6_cJ6GpdV"
      },
      "execution_count": null,
      "outputs": []
    },
    {
      "cell_type": "code",
      "source": [
        "o = np.zeros((4,4))\n",
        "o"
      ],
      "metadata": {
        "id": "q2Xq1VUTHG65"
      },
      "execution_count": null,
      "outputs": []
    },
    {
      "cell_type": "code",
      "source": [
        "(np.dot(G,e) == G).all()"
      ],
      "metadata": {
        "id": "fhsLWaG2HAIq"
      },
      "execution_count": null,
      "outputs": []
    },
    {
      "cell_type": "markdown",
      "source": [
        "##обратная матрица\n",
        "\n",
        "$A \\cdot A^{-1} = E$"
      ],
      "metadata": {
        "id": "gQNOCRB2Ho0h"
      }
    },
    {
      "cell_type": "code",
      "source": [
        "A = np.array([[17,17,5],[21,18,21],[2,2,19]])\n",
        "A1 = np.linalg.inv(A)\n",
        "A@A1"
      ],
      "metadata": {
        "id": "esn-bJuWKo0e"
      },
      "execution_count": null,
      "outputs": []
    },
    {
      "cell_type": "code",
      "source": [
        "p = np.linalg.inv(G) #обратная матрица\n",
        "np.linalg.inv(G)@G#??????\n",
        "p@G#??????"
      ],
      "metadata": {
        "id": "9IFGJy0yH3K-"
      },
      "execution_count": null,
      "outputs": []
    },
    {
      "cell_type": "markdown",
      "source": [
        "###Свойства сложения и умножения матриц"
      ],
      "metadata": {
        "id": "eX4lRpOVLdTx"
      }
    },
    {
      "cell_type": "markdown",
      "source": [
        "$(k\\cdot l)\\cdot A = k \\cdot (l \\cdot A)$\n",
        "\n",
        "$k \\cdot(A + B) = k \\cdot A + k \\cdot B$\n",
        "\n",
        "$(k+l) \\cdot A = k \\cdot A + l \\cdot A$\n",
        "\n",
        "$(A \\cdot B) \\cdot C = A \\cdot (B \\cdot C )$\n",
        "\n",
        "$(A + B) \\cdot C = A \\cdot C + B \\cdot C$\n",
        "\n",
        "$A \\cdot (B + C) = A \\cdot B + A \\cdot C$"
      ],
      "metadata": {
        "id": "Z_gqW7yXLpGn"
      }
    },
    {
      "cell_type": "markdown",
      "source": [
        "##Определитель матрицы"
      ],
      "metadata": {
        "id": "Hs6ozSkTzsLq"
      }
    },
    {
      "cell_type": "markdown",
      "metadata": {
        "id": "Zq50qEF5XjfK"
      },
      "source": [
        "## $\\det A = \\left|\n",
        "\\begin{array}{cccc}\n",
        "a_{00} & a_{01} & \\ldots & a_{0n}\\\\\n",
        "a_{10} & a_{11} & \\ldots & a_{1n}\\\\\n",
        "\\vdots & \\vdots & \\ddots & \\vdots\\\\\n",
        "a_{n0} & a_{n1} & \\ldots & a_{nn}\n",
        "\\end{array}\n",
        "\\right|= \\sum_{k=0}^{n} (-1)^{k+0}a_{0k}M_k^0$\n",
        "\n",
        "\n",
        "Минор элемента  $a_{ij}$ квадратной матрицы – это определитель этой матрицы, у которого отсутствует  i-я строка и  j-й столбец. \n",
        "\n",
        "Определитель - числовая характеристика квадратной матрицы"
      ]
    },
    {
      "cell_type": "code",
      "source": [
        "b = np.array([[1,2,3],[4,5,6],[7,8,9]])\n",
        "np.linalg.det(b)"
      ],
      "metadata": {
        "id": "uv0jP52pQA8n"
      },
      "execution_count": null,
      "outputs": []
    },
    {
      "cell_type": "markdown",
      "metadata": {
        "collapsed": false,
        "id": "5oBY9_e8Xl6e"
      },
      "source": [
        "## $\\det A = \\left|\n",
        "\\begin{array}{cccc}\n",
        "1 & 2 & 3\\\\\n",
        "4 & 5 & 6\\\\\n",
        "7 & 8 & 9\n",
        "\\end{array}\n",
        "\\right|=\n",
        "1\\left| \n",
        "\\begin{array}{cccc}\n",
        "5 & 6\\\\ \n",
        "8 & 9\n",
        "\\end{array} \n",
        "\\right|\n",
        "-2\\left| \n",
        "\\begin{array}{cccc}\n",
        "4 & 6\\\\ \n",
        "7 & 9\n",
        "\\end{array} \n",
        "\\right|\n",
        "+3\\left| \n",
        "\\begin{array}{cccc}\n",
        "4 & 5\\\\ \n",
        "7 & 8\n",
        "\\end{array} \n",
        "\\right|=0\n",
        "$\n"
      ]
    },
    {
      "cell_type": "code",
      "source": [
        "deta = 1*(5*9 - 6*8) - 2*(4*9-6*7) + 3*(4*8 - 5*7)\n",
        "deta"
      ],
      "metadata": {
        "id": "jWGb7KnsQTe7"
      },
      "execution_count": null,
      "outputs": []
    },
    {
      "cell_type": "markdown",
      "metadata": {
        "collapsed": false,
        "id": "dMnnSL4xXl6m"
      },
      "source": [
        "Можно показать, что разложение через миноры любой i-й строки приведет к вычислению одинаковых определителей\n",
        "\n",
        "## $\\det A = \\sum_{k=0}^{n} (-1)^{k+i}a_{ik}M_k^i =  \\sum_{k=0}^{n} a_{ik}A_{ik}$"
      ]
    },
    {
      "cell_type": "markdown",
      "metadata": {
        "collapsed": true,
        "id": "EWkPrFRmXl6n"
      },
      "source": [
        "### Свойства определителей\n",
        "1. Определитель не меняется при транспонировании.\n",
        "\n",
        "2. При перестановке двух соседних строк (столбцов) определитель меняет знак. \n",
        "\n",
        "3. Определитель с двумя одинаковыми строками (столбцами) равен нулю.\n",
        "\n",
        "4. Общий множитель строки (столбца) можно выносить за знак определителя.\n",
        "$\\begin{vmatrix} 1 & 4 & 2\\\\ 0 & 2 & 0\\\\ -7 & 14 & -7 \\end{vmatrix}=-7\\cdot \\begin{vmatrix} 1 & 4 & 2\\\\ 0 & 2 & 0\\\\ 1 & -2 & 1 \\end{vmatrix}= -14\\cdot \\begin{vmatrix} 1 & 2 & 2\\\\ 0 & 1 & 0\\\\ 1 & -1 & 1 \\end{vmatrix}$\n",
        "\n",
        "5. Если все элементы некоторой строки (столбца) равны нулю, то определитель равен нулю.\n",
        "\n",
        "6. Если все элементы двух строк (или двух столбцов) пропорциональны, то определитель равен нулю.\n",
        "\n",
        "7. Если к элементам некоторой строки (столбца) прибавить соответствующие элементы другой строки (столбца), предварительно умножив их на одно и то же отличное от нуля число, то определитель не изменится."
      ]
    },
    {
      "cell_type": "markdown",
      "source": [
        "##Обращение матрицы. Ранг матрицы"
      ],
      "metadata": {
        "id": "wk0p1n1yzxcy"
      }
    },
    {
      "cell_type": "code",
      "source": [
        "a = np.array([[0,1],[2,3]])\n",
        "np.linalg.det(a)"
      ],
      "metadata": {
        "colab": {
          "base_uri": "https://localhost:8080/"
        },
        "id": "WainjJo9PIVZ",
        "outputId": "968d92aa-468c-4f8b-e822-f80218800565"
      },
      "execution_count": 87,
      "outputs": [
        {
          "output_type": "execute_result",
          "data": {
            "text/plain": [
              "-2.0"
            ]
          },
          "metadata": {},
          "execution_count": 87
        }
      ]
    },
    {
      "cell_type": "code",
      "source": [
        "a"
      ],
      "metadata": {
        "colab": {
          "base_uri": "https://localhost:8080/"
        },
        "id": "rkhpeuhEWA2J",
        "outputId": "9598d0ba-68d6-49de-dae1-a6a2f81da1e7"
      },
      "execution_count": 88,
      "outputs": [
        {
          "output_type": "execute_result",
          "data": {
            "text/plain": [
              "array([[0, 1],\n",
              "       [2, 3]])"
            ]
          },
          "metadata": {},
          "execution_count": 88
        }
      ]
    },
    {
      "cell_type": "markdown",
      "metadata": {
        "collapsed": false,
        "id": "Ls5YN_4CWAUh"
      },
      "source": [
        "## $\\det A = \\sum_{k=0}^{n} (-1)^{k+i}a_{ik}M_k^i =  \\sum_{k=0}^{n} a_{ik}A_{ik}$\n",
        "\n",
        "$A_{ik}$ называется алгебраическим дополнением"
      ]
    },
    {
      "cell_type": "markdown",
      "source": [
        "$A = \\left(\n",
        "\\begin{array}{cccc}\n",
        "0 & 1\\\\\n",
        "2 & 3\\\\\n",
        "\\end{array}\n",
        "\\right)$ - матрица\n",
        "\n",
        "$M = \\left(\n",
        "\\begin{array}{cccc}\n",
        "3 & 2\\\\\n",
        "1 & 0\\\\\n",
        "\\end{array}\n",
        "\\right)$ - матрица миноров\n",
        "\n",
        "$А_{*} = \\left(\n",
        "\\begin{array}{cccc}\n",
        "3 & -2\\\\\n",
        "-1 & 0\\\\\n",
        "\\end{array}\n",
        "\\right)$ - матрица алгебраических дополнений\n",
        "\n",
        "$A*A^{-1} = E$\n",
        "\n",
        "$А_{*}^T = \\left(\n",
        "\\begin{array}{cccc}\n",
        "3 & -1\\\\\n",
        "-2 & 0\\\\\n",
        "\\end{array}\n",
        "\\right)$ \n",
        "\n",
        "$A^{-1} = \\frac{A^T_*}{detA} = \\left(\n",
        "\\begin{array}{cccc}\n",
        "-1.5 & 0.5\\\\\n",
        "1 & 0\\\\\n",
        "\\end{array}\n",
        "\\right)$\n",
        "\n",
        "$A*A^{-1} = \\left(\n",
        "\\begin{array}{cccc}\n",
        "1 & 0\\\\\n",
        "0 & 1\\\\\n",
        "\\end{array}\n",
        "\\right)$\n",
        "\n",
        "Если detA = 0, то для A не существует обратной матрицы"
      ],
      "metadata": {
        "id": "jxPrFyUVWG0P"
      }
    },
    {
      "cell_type": "markdown",
      "source": [
        "__Ранг матрицы__\n",
        "\n",
        "Важный показатель матриц с нулевым определителем\n",
        "\n",
        "Если из матрицы (необязательно квадратной) вычеркнуть несколько столбцов и строк так, чтобы в результате осталась матрица размера МхМ, то определитель оставшейся матрицы называют минором порядка М исходной матрицы. \n",
        "\n",
        "Или \n",
        "\n",
        "Мионором порядка М матрицы А будем называть определитель М-го порядка с элементами, лежащими на пересечении любых М строк и М столбцов матрицы А.\n",
        "\n",
        "Рангом матрицы называют наибольший из порядков отличных от нуля её миноров. "
      ],
      "metadata": {
        "id": "fUWKTdO2ZEJS"
      }
    },
    {
      "cell_type": "code",
      "source": [
        "a = np.array([[1,2,3],[4,5,6],[7,8,9]])\n",
        "a"
      ],
      "metadata": {
        "colab": {
          "base_uri": "https://localhost:8080/"
        },
        "id": "qiaKgeCiW_h4",
        "outputId": "469daf36-7d88-44b9-f970-c439b7b11ea2"
      },
      "execution_count": 89,
      "outputs": [
        {
          "output_type": "execute_result",
          "data": {
            "text/plain": [
              "array([[1, 2, 3],\n",
              "       [4, 5, 6],\n",
              "       [7, 8, 9]])"
            ]
          },
          "metadata": {},
          "execution_count": 89
        }
      ]
    },
    {
      "cell_type": "code",
      "source": [
        "np.linalg.det(a)"
      ],
      "metadata": {
        "colab": {
          "base_uri": "https://localhost:8080/"
        },
        "id": "OiCPo0VCWFJP",
        "outputId": "9c66b126-8961-4dfe-8212-65b0b318e1d5"
      },
      "execution_count": 90,
      "outputs": [
        {
          "output_type": "execute_result",
          "data": {
            "text/plain": [
              "0.0"
            ]
          },
          "metadata": {},
          "execution_count": 90
        }
      ]
    },
    {
      "cell_type": "code",
      "source": [
        "np.linalg.matrix_rank(a,0.0001)"
      ],
      "metadata": {
        "colab": {
          "base_uri": "https://localhost:8080/"
        },
        "id": "9t9XjNceWMBs",
        "outputId": "7cb3756f-d112-4820-d01c-6583b970a14e"
      },
      "execution_count": 91,
      "outputs": [
        {
          "output_type": "execute_result",
          "data": {
            "text/plain": [
              "2"
            ]
          },
          "metadata": {},
          "execution_count": 91
        }
      ]
    },
    {
      "cell_type": "code",
      "source": [
        "b = np.array([[1,2,3],[4,5,6],[7,8,9],[10,11,12]])\n",
        "b"
      ],
      "metadata": {
        "colab": {
          "base_uri": "https://localhost:8080/"
        },
        "id": "s6lVrab4XFp4",
        "outputId": "46389c59-fda7-4240-b184-f935c0bc4b9f"
      },
      "execution_count": 92,
      "outputs": [
        {
          "output_type": "execute_result",
          "data": {
            "text/plain": [
              "array([[ 1,  2,  3],\n",
              "       [ 4,  5,  6],\n",
              "       [ 7,  8,  9],\n",
              "       [10, 11, 12]])"
            ]
          },
          "metadata": {},
          "execution_count": 92
        }
      ]
    },
    {
      "cell_type": "code",
      "source": [
        "np.linalg.matrix_rank(b,0.0001)"
      ],
      "metadata": {
        "colab": {
          "base_uri": "https://localhost:8080/"
        },
        "id": "NYQb0TvIXYDT",
        "outputId": "9d16d46a-5e1f-4cdd-c993-a1c75215849a"
      },
      "execution_count": 93,
      "outputs": [
        {
          "output_type": "execute_result",
          "data": {
            "text/plain": [
              "2"
            ]
          },
          "metadata": {},
          "execution_count": 93
        }
      ]
    },
    {
      "cell_type": "markdown",
      "source": [
        "__Линейная зависимость столбцов и строк матрицы__\n",
        "\n",
        "Если строки или столбцы матрицы являются линейно зависимыми (т.е. могут быть выражены друг из друга домножением на коэффициент), то определитель матрицы = 0. Если ранг матрицы равен n, то ненулевой минор n-го порядка называется базисным минором. А строки и столбцы, на пересечении которых стоит базисный минор, называются базисными. Через базисные строки можно выразить все остальные строки матрицы. "
      ],
      "metadata": {
        "id": "yVaBMdJHXsaa"
      }
    },
    {
      "cell_type": "markdown",
      "source": [
        "##Векторная алгебра. Скалярное произведение"
      ],
      "metadata": {
        "id": "LejOsdpHz0QJ"
      }
    },
    {
      "cell_type": "code",
      "source": [
        "a = np.array([1,2,3,4,5], float)\n",
        "b = np.array([0,9,8,7,6], float)\n",
        "a+b"
      ],
      "metadata": {
        "colab": {
          "base_uri": "https://localhost:8080/"
        },
        "id": "lN2LXFWghpEt",
        "outputId": "1a5f968e-205a-4e41-f27d-806996289e53"
      },
      "execution_count": 94,
      "outputs": [
        {
          "output_type": "execute_result",
          "data": {
            "text/plain": [
              "array([ 1., 11., 11., 11., 11.])"
            ]
          },
          "metadata": {},
          "execution_count": 94
        }
      ]
    },
    {
      "cell_type": "code",
      "source": [
        "a*2"
      ],
      "metadata": {
        "colab": {
          "base_uri": "https://localhost:8080/"
        },
        "id": "AFCsclXvhzDS",
        "outputId": "b8ae4458-4fb1-4d47-f1ad-9350a2aed663"
      },
      "execution_count": 95,
      "outputs": [
        {
          "output_type": "execute_result",
          "data": {
            "text/plain": [
              "array([ 2.,  4.,  6.,  8., 10.])"
            ]
          },
          "metadata": {},
          "execution_count": 95
        }
      ]
    },
    {
      "cell_type": "markdown",
      "source": [
        "__скалярное произведение__ векторов - сумма поэлементного перемножения элементов векторов"
      ],
      "metadata": {
        "id": "DFLqTa4jh2kb"
      }
    },
    {
      "cell_type": "code",
      "source": [
        "a@b"
      ],
      "metadata": {
        "colab": {
          "base_uri": "https://localhost:8080/"
        },
        "id": "9nIbkoBAiCy_",
        "outputId": "cdbf1abb-4887-4bf9-d15c-47a15c623307"
      },
      "execution_count": 96,
      "outputs": [
        {
          "output_type": "execute_result",
          "data": {
            "text/plain": [
              "100.0"
            ]
          },
          "metadata": {},
          "execution_count": 96
        }
      ]
    },
    {
      "cell_type": "code",
      "source": [
        "a.T@b"
      ],
      "metadata": {
        "colab": {
          "base_uri": "https://localhost:8080/"
        },
        "id": "GLN6KEiciPdN",
        "outputId": "68a850b4-e1f4-4d79-dd15-d7bf91c26095"
      },
      "execution_count": 97,
      "outputs": [
        {
          "output_type": "execute_result",
          "data": {
            "text/plain": [
              "100.0"
            ]
          },
          "metadata": {},
          "execution_count": 97
        }
      ]
    },
    {
      "cell_type": "code",
      "source": [
        "np.inner(a,b)"
      ],
      "metadata": {
        "colab": {
          "base_uri": "https://localhost:8080/"
        },
        "id": "1915PgfMiglp",
        "outputId": "fe84588d-c188-420e-f39f-82b55cbaa56f"
      },
      "execution_count": 98,
      "outputs": [
        {
          "output_type": "execute_result",
          "data": {
            "text/plain": [
              "100.0"
            ]
          },
          "metadata": {},
          "execution_count": 98
        }
      ]
    },
    {
      "cell_type": "code",
      "source": [
        "np.outer(a,b)"
      ],
      "metadata": {
        "colab": {
          "base_uri": "https://localhost:8080/"
        },
        "id": "35NBm_MOihZI",
        "outputId": "4d2e1ff7-04a4-4480-b1db-212e7226922d"
      },
      "execution_count": 99,
      "outputs": [
        {
          "output_type": "execute_result",
          "data": {
            "text/plain": [
              "array([[ 0.,  9.,  8.,  7.,  6.],\n",
              "       [ 0., 18., 16., 14., 12.],\n",
              "       [ 0., 27., 24., 21., 18.],\n",
              "       [ 0., 36., 32., 28., 24.],\n",
              "       [ 0., 45., 40., 35., 30.]])"
            ]
          },
          "metadata": {},
          "execution_count": 99
        }
      ]
    },
    {
      "cell_type": "markdown",
      "source": [
        "__Визуализация векторов на координатной плоскости__"
      ],
      "metadata": {
        "id": "7uD9b-9qhNFs"
      }
    },
    {
      "cell_type": "code",
      "source": [
        "a = np.array([3,4], float)\n",
        "U,V = a[0], a[1]\n",
        "plt.quiver(U,V, angles = 'xy', scale_units='xy', scale = 1)\n",
        "\n",
        "plt.xlim(-5,5)\n",
        "plt.ylim(-5,5)\n",
        "plt.grid(True)\n",
        "plt.show()"
      ],
      "metadata": {
        "colab": {
          "base_uri": "https://localhost:8080/",
          "height": 265
        },
        "id": "MPTV3djlivXE",
        "outputId": "9a2fc5ce-8bcf-4b65-db69-2972880f6277"
      },
      "execution_count": 100,
      "outputs": [
        {
          "output_type": "display_data",
          "data": {
            "image/png": "[encoded data removed]",
            "text/plain": [
              "<Figure size 432x288 with 1 Axes>"
            ]
          },
          "metadata": {
            "needs_background": "light"
          }
        }
      ]
    },
    {
      "cell_type": "code",
      "source": [
        "#длина вектора\n",
        "np.sqrt(a@a)\n",
        "\n",
        "np.linalg.norm(a) == np.sqrt(a@a)"
      ],
      "metadata": {
        "colab": {
          "base_uri": "https://localhost:8080/"
        },
        "id": "gNxS-s16j2Qf",
        "outputId": "d1f7d893-02aa-4cc4-cb67-c4dae5c1f172"
      },
      "execution_count": 101,
      "outputs": [
        {
          "output_type": "execute_result",
          "data": {
            "text/plain": [
              "True"
            ]
          },
          "metadata": {},
          "execution_count": 101
        }
      ]
    },
    {
      "cell_type": "code",
      "source": [
        "X, Y = np.array([0,0,0]), np.array([0,0,0])\n",
        "U, V = np.array([5,3,3]), np.array([4,2,0])\n",
        "plt.quiver(X, Y, U, V, angles = 'xy', scale_units='xy', scale = 1)\n",
        "\n",
        "plt.xlim(-1,5)\n",
        "plt.ylim(-1,5)\n",
        "plt.grid(True)\n",
        "plt.show()"
      ],
      "metadata": {
        "colab": {
          "base_uri": "https://localhost:8080/",
          "height": 269
        },
        "id": "zdwjEmWKkOJo",
        "outputId": "cf903833-0332-4784-b08f-56eb85ece4b8"
      },
      "execution_count": 102,
      "outputs": [
        {
          "output_type": "display_data",
          "data": {
            "image/png": "[encoded data removed]",
            "text/plain": [
              "<Figure size 432x288 with 1 Axes>"
            ]
          },
          "metadata": {
            "needs_background": "light"
          }
        }
      ]
    },
    {
      "cell_type": "code",
      "source": [
        "a = np.array([2,3], float)\n",
        "b = np.array([4,1], float)\n",
        "X, Y = np.array([0,0]), np.array([0,0])\n",
        "U, V = np.array([a[0], b[0]]), np.array([a[1],b[1]])\n",
        "plt.quiver(X, Y, U, V, angles = 'xy', scale_units='xy', scale = 1)\n",
        "\n",
        "plt.xlim(-1,5)\n",
        "plt.ylim(-1,5)\n",
        "plt.grid(True)\n",
        "plt.show()"
      ],
      "metadata": {
        "colab": {
          "base_uri": "https://localhost:8080/",
          "height": 269
        },
        "id": "YBt6RwYepAHq",
        "outputId": "185808ae-d37e-4d6c-a79f-9403845f06ef"
      },
      "execution_count": 103,
      "outputs": [
        {
          "output_type": "display_data",
          "data": {
            "image/png": "[encoded data removed]",
            "text/plain": [
              "<Figure size 432x288 with 1 Axes>"
            ]
          },
          "metadata": {
            "needs_background": "light"
          }
        }
      ]
    },
    {
      "cell_type": "markdown",
      "source": [
        "__Cкалярное произведение__\n",
        "\n",
        "$$  \\vec {a} \\cdot \\vec b = a \\cdot b \\cdot cos \\alpha $$"
      ],
      "metadata": {
        "id": "C-ZiRvkkpkAx"
      }
    },
    {
      "cell_type": "markdown",
      "source": [
        "##Векторное произведение"
      ],
      "metadata": {
        "id": "vZHZAoNBz3vo"
      }
    },
    {
      "cell_type": "code",
      "metadata": {
        "id": "lXs2YZssXqEs",
        "outputId": "6da07e1f-d018-4a8d-97fa-6c522b7c90e6",
        "colab": {
          "base_uri": "https://localhost:8080/",
          "height": 269
        }
      },
      "source": [
        "X, Y = np.array([0, 2, 0]), np.array([0, 3, 0])\n",
        "U, V = np.array([2, 3, 5]), np.array([3, 1, 4])\n",
        "\n",
        "plt.quiver(X, Y, U, V, angles='xy', scale_units='xy', scale=1)\n",
        "\n",
        "plt.xlim(-1, 5)\n",
        "plt.ylim(-1, 5)\n",
        "plt.grid(True)\n",
        "plt.show()"
      ],
      "execution_count": 104,
      "outputs": [
        {
          "output_type": "display_data",
          "data": {
            "image/png": "[encoded data removed]",
            "text/plain": [
              "<Figure size 432x288 with 1 Axes>"
            ]
          },
          "metadata": {
            "needs_background": "light"
          }
        }
      ]
    },
    {
      "cell_type": "code",
      "metadata": {
        "id": "axAzwaRTXqE0",
        "outputId": "9285669b-c217-4ab8-de3b-283f1cc5b62a",
        "colab": {
          "base_uri": "https://localhost:8080/",
          "height": 269
        }
      },
      "source": [
        "a = np.array([2, 3], float)\n",
        "b = np.array([4, 1], float)\n",
        "X, Y = np.array([0, 0]), np.array([0, 0])\n",
        "U, V = np.array([a[0], b[0]]), np.array([a[1], b[1]])\n",
        "\n",
        "plt.quiver(X, Y, U, V, angles='xy', scale_units='xy', scale=1)\n",
        "\n",
        "plt.xlim(-1, 5)\n",
        "plt.ylim(-1, 5)\n",
        "plt.grid(True)\n",
        "plt.show()"
      ],
      "execution_count": 105,
      "outputs": [
        {
          "output_type": "display_data",
          "data": {
            "image/png": "[encoded data removed]",
            "text/plain": [
              "<Figure size 432x288 with 1 Axes>"
            ]
          },
          "metadata": {
            "needs_background": "light"
          }
        }
      ]
    },
    {
      "cell_type": "code",
      "metadata": {
        "id": "KPD2GOxmXqFF",
        "outputId": "e0150469-a4dc-44cd-8663-7995ad04bc29",
        "colab": {
          "base_uri": "https://localhost:8080/",
          "height": 286
        }
      },
      "source": [
        "i = np.array([1, 0], float)\n",
        "j = np.array([0, 1], float)\n",
        "X, Y = np.array([0, 0]), np.array([0, 0])\n",
        "U, V = np.array([i[0], j[0]]), np.array([i[1], j[1]])\n",
        "\n",
        "plt.quiver(X, Y, U, V, angles='xy', scale_units='xy', scale=1)\n",
        "\n",
        "plt.xlim(-1, 5)\n",
        "plt.ylim(-1, 5)\n",
        "plt.grid(True)\n",
        "plt.show()\n",
        "np.inner(i, j)"
      ],
      "execution_count": 106,
      "outputs": [
        {
          "output_type": "display_data",
          "data": {
            "image/png": "[encoded data removed]",
            "text/plain": [
              "<Figure size 432x288 with 1 Axes>"
            ]
          },
          "metadata": {
            "needs_background": "light"
          }
        },
        {
          "output_type": "execute_result",
          "data": {
            "text/plain": [
              "0.0"
            ]
          },
          "metadata": {},
          "execution_count": 106
        }
      ]
    },
    {
      "cell_type": "markdown",
      "metadata": {
        "id": "TTs2qkeeXqFL"
      },
      "source": [
        "#### Векторное произведение\n",
        "### $\\vec a \\times \\vec b  = a \\cdot b  \\cdot \\sin \\alpha \\cdot \\vec k$"
      ]
    },
    {
      "cell_type": "code",
      "metadata": {
        "id": "NAi_zIfXXqFR",
        "outputId": "db96fe82-dc44-40b7-a47c-9e10e958e9de",
        "colab": {
          "base_uri": "https://localhost:8080/"
        }
      },
      "source": [
        "print(a)\n",
        "print(b)\n",
        "v = np.cross(a, b)\n",
        "print(v)\n",
        "v/(np.linalg.norm(a)*np.linalg.norm(b))"
      ],
      "execution_count": 107,
      "outputs": [
        {
          "output_type": "stream",
          "name": "stdout",
          "text": [
            "[2. 3.]\n",
            "[4. 1.]\n",
            "-10.0\n"
          ]
        },
        {
          "output_type": "execute_result",
          "data": {
            "text/plain": [
              "-0.6726727939963125"
            ]
          },
          "metadata": {},
          "execution_count": 107
        }
      ]
    },
    {
      "cell_type": "markdown",
      "metadata": {
        "collapsed": false,
        "id": "0U78K8tXXqFZ"
      },
      "source": [
        "#### Векторное произведение\n",
        "### $\\vec a \\times \\vec b  = \\left|\n",
        "\\begin{array}{cccc}\n",
        "a_{x} & a_{y}\\\\\n",
        "b_{x} & b_{y}\n",
        "\\end{array}\n",
        "\\right| \\cdot \\vec k\n",
        "$\n",
        "### $\\vec a \\times \\vec b  = \\left|\n",
        "\\begin{array}{cccc}\n",
        "\\vec i & \\vec j & \\vec k \\\\\n",
        "a_{x} & a_{y} & a_{z}\\\\\n",
        "b_{x} & b_{y} & b_{z}\n",
        "\\end{array}\n",
        "\\right|\n",
        "$"
      ]
    },
    {
      "cell_type": "code",
      "source": [
        "X, Y, Z = np.array([0,0,0]), np.array([0,0,0]), np.array([0,0,0])\n",
        "a = np.array([1,0,0], float)\n",
        "b = np.array([0,-1,0], float)\n",
        "c = np.cross(a,b)\n",
        "print(c)\n",
        "\n",
        "U,V,W = np.array([a[0], b[0], c[0]]),  np.array([a[1], b[1], c[1]]),  np.array([a[2], b[2], c[2]])\n",
        "\n",
        "fig = plt.figure()\n",
        "ax = fig.add_subplot(111, projection = '3d')\n",
        "ax.quiver(X,Y,Z,U,V,W)\n",
        "ax.set_xlim([0,5])\n",
        "ax.set_ylim([0,5])\n",
        "ax.set_zlim([-2,2])\n",
        "plt.show()"
      ],
      "metadata": {
        "colab": {
          "base_uri": "https://localhost:8080/",
          "height": 265
        },
        "id": "8zeXHKWawlWc",
        "outputId": "2210ed3f-4a9e-4932-9547-eec26c2b5065"
      },
      "execution_count": 108,
      "outputs": [
        {
          "output_type": "stream",
          "name": "stdout",
          "text": [
            "[ 0.  0. -1.]\n"
          ]
        },
        {
          "output_type": "display_data",
          "data": {
            "image/png": "[encoded data removed]",
            "text/plain": [
              "<Figure size 432x288 with 1 Axes>"
            ]
          },
          "metadata": {
            "needs_background": "light"
          }
        }
      ]
    },
    {
      "cell_type": "markdown",
      "metadata": {
        "id": "TLJpvHiIXqFc"
      },
      "source": [
        "#### Смешанное произведение\n",
        "$( \\vec a \\times \\vec b ) \\cdot c = a \\cdot ( \\vec b \\times \\vec c ) $"
      ]
    },
    {
      "cell_type": "code",
      "metadata": {
        "id": "gB_ZTgl3XqFe",
        "colab": {
          "base_uri": "https://localhost:8080/"
        },
        "outputId": "97568832-441e-401a-f05e-eebbb5c1d097"
      },
      "source": [
        "import numpy as np\n",
        "a = np.array([2, 3, 0], float)\n",
        "b = np.array([4, 1, 0], float)\n",
        "c = np.array([2, 6, 1], float)\n",
        "v = np.cross(a, b)\n",
        "print (np.inner(v, c))\n",
        "w = np.cross(b, c)\n",
        "print (np.inner(w, a))"
      ],
      "execution_count": 109,
      "outputs": [
        {
          "output_type": "stream",
          "name": "stdout",
          "text": [
            "-10.0\n",
            "-10.0\n"
          ]
        }
      ]
    },
    {
      "cell_type": "code",
      "source": [
        "U,V,W = np.array([a[0], b[0], c[0]]),  np.array([a[1], b[1], c[1]]),  np.array([a[2], b[2], c[2]])\n",
        "\n",
        "fig = plt.figure()\n",
        "ax = fig.add_subplot(111, projection = '3d')\n",
        "ax.quiver(X,Y,Z,U,V,W)\n",
        "ax.set_xlim([0,5])\n",
        "ax.set_ylim([0,5])\n",
        "ax.set_zlim([-2,2])\n",
        "plt.show()"
      ],
      "metadata": {
        "colab": {
          "base_uri": "https://localhost:8080/",
          "height": 248
        },
        "id": "QLgjI7znxqVU",
        "outputId": "0d48e961-7463-4037-f16e-cd83aed0a28b"
      },
      "execution_count": 110,
      "outputs": [
        {
          "output_type": "display_data",
          "data": {
            "image/png": "[encoded data removed]",
            "text/plain": [
              "<Figure size 432x288 with 1 Axes>"
            ]
          },
          "metadata": {
            "needs_background": "light"
          }
        }
      ]
    },
    {
      "cell_type": "markdown",
      "source": [
        "#Системы линейных алгебраических уравнений"
      ],
      "metadata": {
        "id": "FNpNO2LJzqHO"
      }
    },
    {
      "cell_type": "markdown",
      "source": [
        "##Определение СЛАУ. Матричная форма записи СЛАУ"
      ],
      "metadata": {
        "id": "fSyWsRwpzuqG"
      }
    },
    {
      "cell_type": "markdown",
      "source": [
        "В общем случае, СЛАУ  - система m линейных уравнений с n неизвестными\n",
        "\n",
        "$$a_{00} x_0 + a_{01}x_1 + ... + a_{0n-1}x_{n-1} = b_0$$\n",
        "$$a_{10} x_0 + a_{11}x_1 + ... + a_{1n-1}x_{n-1} = b_1$$\n",
        "$$...$$\n",
        "$$a_{m-1,0} x_0 + a_{m-1,1}x_1 + ... + a_{m-1,n-1}x_{n-1} = b_{m-1}$$"
      ],
      "metadata": {
        "id": "A5NOY0ol0Pyw"
      }
    },
    {
      "cell_type": "code",
      "source": [
        "#y = 2 -1.5x\n",
        "#y = 0.75x - 0.25\n",
        "x = np.linspace(-1,3,201)\n",
        "plt.plot(x,2-1.5*x)\n",
        "plt.plot(x, 0.75*x - 0.25)\n",
        "plt.axis('equal')\n",
        "plt.grid(True)\n",
        "plt.show()"
      ],
      "metadata": {
        "colab": {
          "base_uri": "https://localhost:8080/",
          "height": 265
        },
        "id": "CTVil3Sg_X8d",
        "outputId": "91c87871-32e4-4ba3-d8ee-1e489aa565c9"
      },
      "execution_count": 111,
      "outputs": [
        {
          "output_type": "display_data",
          "data": {
            "image/png": "[encoded data removed]",
            "text/plain": [
              "<Figure size 432x288 with 1 Axes>"
            ]
          },
          "metadata": {
            "needs_background": "light"
          }
        }
      ]
    },
    {
      "cell_type": "markdown",
      "source": [
        "__однородные СЛАУ__\n",
        "СЛАУ, у которой правые части = 0\n",
        "3x+2y=0\n",
        "3x-4y=0\n",
        "\n",
        "\n"
      ],
      "metadata": {
        "id": "PpfKSztTA7JN"
      }
    },
    {
      "cell_type": "markdown",
      "source": [
        "##Матричная форма записи СЛАУ"
      ],
      "metadata": {
        "id": "m4vau5wTBLAb"
      }
    },
    {
      "cell_type": "markdown",
      "metadata": {
        "id": "xkPtp2gcaDvl"
      },
      "source": [
        "$A = \\left(\n",
        "\\begin{array}{cccc}\n",
        "a_{00} & a_{01} & \\ldots & a_{0n}\\\\\n",
        "a_{10} & a_{11} & \\ldots & a_{1n}\\\\\n",
        "\\vdots & \\vdots & \\ddots & \\vdots\\\\\n",
        "a_{m0} & a_{m1} & \\ldots & a_{mn}\n",
        "\\end{array}\n",
        "\\right) ,     X = \\left(\n",
        "\\begin{array}{cccc}\n",
        "x_0\\\\x_1\\\\\\vdots\\\\x_{n}\n",
        "\\end{array}\n",
        "\\right)\n",
        ",B = \\left(\n",
        "\\begin{array}{cccc}\n",
        "b_0\\\\b_1\\\\\\vdots\\\\b_{m}\n",
        "\\end{array}\n",
        "\\right)$\n",
        "$A\\cdot X = B$\n",
        "\n",
        "$3x + 2y = 4$\n",
        "\n",
        "$3x - 4y = 1$\n",
        "\n",
        "$\\left(\n",
        "\\begin{array}{cccc}\n",
        "3 & 2\\\\\n",
        "3 & -4\\\\\n",
        "\\end{array}\n",
        "\\right)\n",
        "\\cdot\n",
        "\\left(\n",
        "\\begin{array}{cccc}\n",
        "x_0\\\\\n",
        "x_1\n",
        "\\end{array}\n",
        "\\right) = \n",
        "\\left(\n",
        "\\begin{array}{cccc}\n",
        "4\\\\\n",
        "1\n",
        "\\end{array}\n",
        "\\right)$"
      ]
    },
    {
      "cell_type": "code",
      "source": [
        "A = np.array([[3,2], [3,-4]])\n",
        "B = np.array([4,1])\n",
        "np.linalg.solve(A,B)"
      ],
      "metadata": {
        "colab": {
          "base_uri": "https://localhost:8080/"
        },
        "id": "SbjZnHnwCjFS",
        "outputId": "5be0c208-fcb0-4a63-9315-a6bd39950f4c"
      },
      "execution_count": 112,
      "outputs": [
        {
          "output_type": "execute_result",
          "data": {
            "text/plain": [
              "array([1. , 0.5])"
            ]
          },
          "metadata": {},
          "execution_count": 112
        }
      ]
    },
    {
      "cell_type": "markdown",
      "source": [
        "##Вырожденные линейные системы\n",
        "\n",
        "рассмотри СЛАУ с квадратной матрицей n*n\n",
        "\n"
      ],
      "metadata": {
        "id": "kQ8w6a9vJFVY"
      }
    },
    {
      "cell_type": "code",
      "source": [
        "A = np.array([[1,2],[3,-4]])\n",
        "B = np.array([[4,1]])\n",
        "C = np.concatenate((A,B.T), axis = 1)\n",
        "print(C)\n",
        "np.linalg.matrix_rank(A, 0.0001), np.linalg.matrix_rank(C, 0.0001)"
      ],
      "metadata": {
        "colab": {
          "base_uri": "https://localhost:8080/"
        },
        "id": "xLRGgk1oOJeT",
        "outputId": "05bbbb24-13d5-48a6-f3ec-3279c0acb02a"
      },
      "execution_count": 118,
      "outputs": [
        {
          "output_type": "stream",
          "name": "stdout",
          "text": [
            "[[ 1  2  4]\n",
            " [ 3 -4  1]]\n"
          ]
        },
        {
          "output_type": "execute_result",
          "data": {
            "text/plain": [
              "(2, 2)"
            ]
          },
          "metadata": {},
          "execution_count": 118
        }
      ]
    },
    {
      "cell_type": "code",
      "source": [
        "#определитель матрицы = 0, СЛАУ не имеет решения, ранг расширенной матрицы > ранку исходной матрицы\n",
        "#если бы ранги были бы равны, то СЛАУ имела бы бесконечное количество решений\n",
        "A = np.array([[1,2],[3,6]])\n",
        "B = np.array([[4,1]])\n",
        "C = np.concatenate((A,B.T), axis = 1)\n",
        "print(C)\n",
        "np.linalg.matrix_rank(A, 0.0001), np.linalg.matrix_rank(C, 0.0001)"
      ],
      "metadata": {
        "colab": {
          "base_uri": "https://localhost:8080/"
        },
        "id": "FjEMucFFOz6T",
        "outputId": "841abbe6-7a8e-4a40-99fc-378a9b9196c9"
      },
      "execution_count": 120,
      "outputs": [
        {
          "output_type": "stream",
          "name": "stdout",
          "text": [
            "[[1 2 4]\n",
            " [3 6 1]]\n"
          ]
        },
        {
          "output_type": "execute_result",
          "data": {
            "text/plain": [
              "(1, 2)"
            ]
          },
          "metadata": {},
          "execution_count": 120
        }
      ]
    },
    {
      "cell_type": "markdown",
      "source": [
        "__Теорема Кронекера-Капелли__\n",
        "\n",
        "СЛАУ совместна тогда и только тогда, когда ранг её основной матрицы равен рангу расширенной матрицы, причем система имеет единственное рещение, если ранг равен числу неизвестных и бесконечное множество решений, если ранг меньше числа неизвестных"
      ],
      "metadata": {
        "id": "PSITRL5GP4JD"
      }
    },
    {
      "cell_type": "code",
      "source": [
        "A = np.array([[1,1,1],[2,1,2],[1,1,3]])\n",
        "B = np.array([1,1,2])\n",
        "print(np.linalg.solve(A,B))\n",
        "np.linalg.lstsq(A,B)"
      ],
      "metadata": {
        "colab": {
          "base_uri": "https://localhost:8080/"
        },
        "id": "KpWefmfxQK9v",
        "outputId": "fb7e44df-a957-454a-a1ab-9e246097a928"
      },
      "execution_count": 123,
      "outputs": [
        {
          "output_type": "stream",
          "name": "stdout",
          "text": [
            "[-0.5  1.   0.5]\n"
          ]
        },
        {
          "output_type": "execute_result",
          "data": {
            "text/plain": [
              "(array([-0.5,  1. ,  0.5]),\n",
              " array([], dtype=float64),\n",
              " 3,\n",
              " array([4.66039737, 1.05622638, 0.40630301]))"
            ]
          },
          "metadata": {},
          "execution_count": 123
        }
      ]
    },
    {
      "cell_type": "code",
      "source": [
        "A = np.array([[1,1,1],[1,1,2],[1,1,3]])\n",
        "B = np.array([1,1,2])\n",
        "# print(np.linalg.solve(A,B))\n",
        "# np.linalg.lstsq(A,B)\n",
        "np.linalg.matrix_rank(A, 0.0001)"
      ],
      "metadata": {
        "colab": {
          "base_uri": "https://localhost:8080/"
        },
        "id": "AUE8dYbKQwnp",
        "outputId": "f7422757-6b86-4f15-8819-13dc1f5d09d5"
      },
      "execution_count": 125,
      "outputs": [
        {
          "output_type": "execute_result",
          "data": {
            "text/plain": [
              "2"
            ]
          },
          "metadata": {},
          "execution_count": 125
        }
      ]
    },
    {
      "cell_type": "markdown",
      "source": [
        "##LU-разложение"
      ],
      "metadata": {
        "id": "RWwqKk73z5pL"
      }
    },
    {
      "cell_type": "markdown",
      "source": [
        "$$AX = B$$\n",
        "\n",
        "$$PA = LU$$\n",
        "\n",
        "$L = \\left(\n",
        "\\begin{array}{cccc}\n",
        "l_{00} & 0 & \\ldots & 0\\\\\n",
        "l_{10} & l_{11} & \\ldots & 0\\\\\n",
        "\\vdots & \\vdots & \\ddots & \\vdots\\\\\n",
        "l_{n0} & l_{n1} & \\ldots & l_{nn}\n",
        "\\end{array}\n",
        "\\right)$\n",
        "\n",
        "$U = \\left(\n",
        "\\begin{array}{cccc}\n",
        "u_{00} & u_{01} & \\ldots & u_{0n}\\\\\n",
        "\\vdots & \\vdots & \\ddots & \\vdots\\\\\n",
        "0 & 0 & \\ldots & u_{n-1,n}\\\\\n",
        "0 & 0 & \\ldots & u_{nn}\n",
        "\\end{array}\n",
        "\\right)$"
      ],
      "metadata": {
        "id": "BBfGx7e0w_kp"
      }
    },
    {
      "cell_type": "code",
      "source": [
        "A = np.array([[7,3,-1,2],[3,8,1,-4],[-1,1,4,-1],[2,-4,-1,6]])\n",
        "P,L,U = scipy.linalg.lu(A)\n",
        "print(P)\n",
        "print(L)\n",
        "print(U)\n",
        "\n",
        "print(np.dot(P,A) - np.dot(L,U))"
      ],
      "metadata": {
        "colab": {
          "base_uri": "https://localhost:8080/"
        },
        "id": "gRLwYPUe0V2U",
        "outputId": "9ad139eb-0277-4060-c4b0-7513d5a4117e"
      },
      "execution_count": 129,
      "outputs": [
        {
          "output_type": "stream",
          "name": "stdout",
          "text": [
            "[[1. 0. 0. 0.]\n",
            " [0. 1. 0. 0.]\n",
            " [0. 0. 1. 0.]\n",
            " [0. 0. 0. 1.]]\n",
            "[[ 1.          0.          0.          0.        ]\n",
            " [ 0.42857143  1.          0.          0.        ]\n",
            " [-0.14285714  0.21276596  1.          0.        ]\n",
            " [ 0.28571429 -0.72340426  0.08982036  1.        ]]\n",
            "[[ 7.          3.         -1.          2.        ]\n",
            " [ 0.          6.71428571  1.42857143 -4.85714286]\n",
            " [ 0.          0.          3.55319149  0.31914894]\n",
            " [ 0.          0.          0.          1.88622754]]\n",
            "[[ 0.0000000e+00  0.0000000e+00  0.0000000e+00  0.0000000e+00]\n",
            " [ 0.0000000e+00  0.0000000e+00  0.0000000e+00 -4.4408921e-16]\n",
            " [ 0.0000000e+00  0.0000000e+00  0.0000000e+00  0.0000000e+00]\n",
            " [ 0.0000000e+00 -4.4408921e-16  0.0000000e+00  0.0000000e+00]]\n"
          ]
        }
      ]
    },
    {
      "cell_type": "markdown",
      "source": [
        "$A \\cdot x = L \\cdot U \\cdot x = b$\n",
        "\n"
      ],
      "metadata": {
        "id": "g3pWrDvj00_I"
      }
    },
    {
      "cell_type": "markdown",
      "source": [
        "![Снимок.PNG](data:image/png;base64,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)"
      ],
      "metadata": {
        "id": "ApVBJC3J1QJp"
      }
    },
    {
      "cell_type": "code",
      "source": [
        "L = np.array([[1,0,0,0],[3,1,0,0],[-1,2,4,0],[2,-4,-1,1]])\n",
        "U = np.array([[-1,6,3,6],[0,2,-8,2],[0,0,7,3],[0,0,0,-1]])\n",
        "A = np.dot(L,U)\n",
        "P,L,U = scipy.linalg.lu(A)\n",
        "\n",
        "print('det A = ', np.linalg.det(A))\n",
        "print('P = ', P)\n",
        "print('U = ', U)\n",
        "print('L = ', L)\n",
        "\n",
        "B = np.array([4,1,7,3])\n",
        "np.linalg.solve(A,B)\n",
        "\n"
      ],
      "metadata": {
        "colab": {
          "base_uri": "https://localhost:8080/"
        },
        "id": "wJYuxerR1zIB",
        "outputId": "78651b8b-e719-4d5d-94ce-85cb6118b6d9"
      },
      "execution_count": 131,
      "outputs": [
        {
          "output_type": "stream",
          "name": "stdout",
          "text": [
            "det A =  55.999999999999474\n",
            "P =  [[0. 0. 0. 1.]\n",
            " [1. 0. 0. 0.]\n",
            " [0. 0. 1. 0.]\n",
            " [0. 1. 0. 0.]]\n",
            "U =  [[ -3.          20.           1.          20.        ]\n",
            " [  0.          -9.33333333  30.33333333 -13.33333333]\n",
            " [  0.           0.          24.5         10.        ]\n",
            " [  0.           0.           0.           0.08163265]]\n",
            "L =  [[ 1.          0.          0.          0.        ]\n",
            " [ 0.66666667  1.          0.          0.        ]\n",
            " [-0.33333333 -0.5         1.          0.        ]\n",
            " [ 0.33333333  0.07142857  0.02040816  1.        ]]\n"
          ]
        },
        {
          "output_type": "execute_result",
          "data": {
            "text/plain": [
              "array([-476.71428571, -111.39285714,  -16.28571429,   40.75      ])"
            ]
          },
          "metadata": {},
          "execution_count": 131
        }
      ]
    },
    {
      "cell_type": "markdown",
      "source": [
        "Разложение Холецкого \n",
        "$ A = L \\cdot L^T$"
      ],
      "metadata": {
        "id": "5Az1rLPg1auh"
      }
    },
    {
      "cell_type": "markdown",
      "source": [
        "##Недоопределенные системы. Нормальное псевдорешение"
      ],
      "metadata": {
        "id": "LwEaDdENz787"
      }
    },
    {
      "cell_type": "markdown",
      "source": [
        "__недоопределенные системы__ - количество неизвестных больше системы уравнений\n",
        "\n",
        "x + 2y = 12"
      ],
      "metadata": {
        "id": "QMv-X7ku3e62"
      }
    },
    {
      "cell_type": "code",
      "source": [
        "x = np.linspace(-1,5,201)\n",
        "plt.plot(x,  6-0.5*x)\n",
        "plt.show()"
      ],
      "metadata": {
        "colab": {
          "base_uri": "https://localhost:8080/",
          "height": 265
        },
        "id": "Q1F1VY7p30OZ",
        "outputId": "d75be327-5f67-4237-a9b3-8cf083a88c72"
      },
      "execution_count": 135,
      "outputs": [
        {
          "output_type": "display_data",
          "data": {
            "image/png": "[encoded data removed]",
            "text/plain": [
              "<Figure size 432x288 with 1 Axes>"
            ]
          },
          "metadata": {
            "needs_background": "light"
          }
        }
      ]
    },
    {
      "cell_type": "markdown",
      "source": [
        "__вырожденная система__\n",
        "\n",
        "определитель матрицы = 0\n",
        "\n",
        "x + 2y = 10\n",
        "\n",
        "1.1x + 2.2y = 14"
      ],
      "metadata": {
        "id": "SxdsYdRA4GUH"
      }
    },
    {
      "cell_type": "code",
      "source": [
        "A = np.array([[1,2],[1.1, 2.2]])\n",
        "B = np.array([10,14])\n",
        "x = np.linspace(-1,5,201)\n",
        "plt.plot(x,  6-0.5*x)\n",
        "plt.plot(x, 14/2.2 - 0.5*x)\n",
        "plt.show()\n",
        "np.linalg.lstsq(A,B)"
      ],
      "metadata": {
        "colab": {
          "base_uri": "https://localhost:8080/",
          "height": 336
        },
        "id": "vLxwpwtQ4Ff-",
        "outputId": "b71348f0-40d7-4f99-f763-fa42e41b34df"
      },
      "execution_count": 138,
      "outputs": [
        {
          "output_type": "display_data",
          "data": {
            "image/png": "[encoded data removed]",
            "text/plain": [
              "<Figure size 432x288 with 1 Axes>"
            ]
          },
          "metadata": {
            "needs_background": "light"
          }
        },
        {
          "output_type": "execute_result",
          "data": {
            "text/plain": [
              "(array([2.29864253, 4.59728507]),\n",
              " array([], dtype=float64),\n",
              " 1,\n",
              " array([3.32415403e+00, 2.39716491e-18]))"
            ]
          },
          "metadata": {},
          "execution_count": 138
        }
      ]
    },
    {
      "cell_type": "markdown",
      "source": [
        "__плохо обусловленные СЛАУ__\n",
        "\n",
        "x + 2y = 3\n",
        "\n",
        "2x + 4.1y = 5\n"
      ],
      "metadata": {
        "id": "3rTy65Rh5Hua"
      }
    },
    {
      "cell_type": "code",
      "source": [
        "A = np.array([[1,2],[2, 4.1]])\n",
        "B = np.array([3,5])\n",
        "x = np.linspace(-1,500,201)\n",
        "plt.plot(x,  3/2 - 0.5*x)\n",
        "plt.plot(x, 5/4.1 - (2/4.1)*x)\n",
        "plt.show()\n",
        "np.linalg.lstsq(A,B)"
      ],
      "metadata": {
        "colab": {
          "base_uri": "https://localhost:8080/",
          "height": 334
        },
        "id": "p21DXm-v5QmN",
        "outputId": "264075f1-c48a-4a1a-d6a5-4e9eeb12557a"
      },
      "execution_count": 140,
      "outputs": [
        {
          "output_type": "display_data",
          "data": {
            "image/png": "[encoded data removed]",
            "text/plain": [
              "<Figure size 432x288 with 1 Axes>"
            ]
          },
          "metadata": {
            "needs_background": "light"
          }
        },
        {
          "output_type": "execute_result",
          "data": {
            "text/plain": [
              "(array([ 23., -10.]),\n",
              " array([], dtype=float64),\n",
              " 2,\n",
              " array([5.08031619, 0.01968381]))"
            ]
          },
          "metadata": {},
          "execution_count": 140
        }
      ]
    },
    {
      "cell_type": "markdown",
      "source": [
        "__Нормальное псевдорешение__\n",
        "\n",
        "$A \\cdot X = B$\n",
        "\n",
        "$|X| = min$\n",
        "\n",
        "__недоопределенные СЛАУ__\n",
        "\n",
        "x + 2y = 12\n",
        "\n",
        "$L = \\left(\n",
        "\\begin{array}{cccc}\n",
        "x\\\\\n",
        "y\\\\\n",
        "\\end{array}\n",
        "\\right)$\n",
        "\n",
        "$(1,2) \\cdot X = (12)$\n"
      ],
      "metadata": {
        "id": "NahvOhA-5yKP"
      }
    },
    {
      "cell_type": "code",
      "source": [
        "def Q(x,y):\n",
        "  return(x**2 + y**2)\n",
        "\n",
        "x = np.linspace(-1,5,201)\n",
        "plt.plot(x, Q(x, 6-0.5*x))\n",
        "plt.show()"
      ],
      "metadata": {
        "colab": {
          "base_uri": "https://localhost:8080/",
          "height": 265
        },
        "id": "wTeENIhu5HJQ",
        "outputId": "2eba5aa7-1365-4656-93ba-74021833fc15"
      },
      "execution_count": 141,
      "outputs": [
        {
          "output_type": "display_data",
          "data": {
            "image/png": "[encoded data removed]",
            "text/plain": [
              "<Figure size 432x288 with 1 Axes>"
            ]
          },
          "metadata": {
            "needs_background": "light"
          }
        }
      ]
    },
    {
      "cell_type": "markdown",
      "source": [
        "##QR-разложение"
      ],
      "metadata": {
        "id": "zk2zqVtj0B2q"
      }
    },
    {
      "cell_type": "markdown",
      "source": [
        "$A = QR$\n",
        "\n",
        "R - Верхняя треугольная матрица"
      ],
      "metadata": {
        "id": "92sHZEhb7XrJ"
      }
    },
    {
      "cell_type": "markdown",
      "source": [
        "Q - ортогональная, если удовлетворяет условию:\n",
        "\n",
        "$Q^T \\cdot Q = I$\n",
        "\n",
        "$Q \\cdot X = |X|$"
      ],
      "metadata": {
        "id": "nqO2F2nP7d82"
      }
    },
    {
      "cell_type": "markdown",
      "source": [
        "Идея ортогональных преобразований\n",
        "\n",
        "$min |AX - B|$\n",
        "\n",
        "$min |Q^T(AX-B)|$"
      ],
      "metadata": {
        "id": "MpabcUmh72jK"
      }
    },
    {
      "cell_type": "code",
      "source": [
        ""
      ],
      "metadata": {
        "id": "Qh5KNeil3zlC"
      },
      "execution_count": null,
      "outputs": []
    }
  ]
}