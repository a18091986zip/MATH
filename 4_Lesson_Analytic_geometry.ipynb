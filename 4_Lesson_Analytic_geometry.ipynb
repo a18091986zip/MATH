{
  "nbformat": 4,
  "nbformat_minor": 0,
  "metadata": {
    "colab": {
      "name": "4 Lesson Analytic geometry.ipynb",
      "provenance": [],
      "authorship_tag": "ABX9TyNZg74B8hFUDCynMZk1Gdgn",
      "include_colab_link": true
    },
    "kernelspec": {
      "name": "python3",
      "display_name": "Python 3"
    },
    "language_info": {
      "name": "python"
    }
  },
  "cells": [
    {
      "cell_type": "markdown",
      "metadata": {
        "id": "view-in-github",
        "colab_type": "text"
      },
      "source": [
        "<a href=\"https://colab.research.google.com/github/a18091986/MATH/blob/advanced-math-introduction/4_Lesson_Analytic_geometry.ipynb\" target=\"_parent\"><img src=\"https://colab.research.google.com/assets/colab-badge.svg\" alt=\"Open In Colab\"/></a>"
      ]
    },
    {
      "cell_type": "markdown",
      "source": [
        "#Норма вектора"
      ],
      "metadata": {
        "id": "r5xCLd763_2J"
      }
    },
    {
      "cell_type": "markdown",
      "source": [
        "норма вектора \n",
        "\n",
        "$$||λx|| = |\\lambda|||x||$$\n",
        "$$||x+y|| ≤ ||x|| + ||y||$$\n",
        "$$||x|| ≥ 0 \\,\\, and \\,\\,||x|| = 0 ⇒ x = 0$$\n",
        "\n",
        "__виды норм вектоора__\n",
        "\n",
        "- манхэттенское расстояние (норма $L_1$) - сумма абсолютных величин координат вектора x\n",
        "$$||x||_1 = \\sum\\limits_{i=1}^n|x_i|$$\n",
        "\n",
        "- Евклидова норма (метрика $L_2$) - геометрическое расстояние между двумя точками в многомерном пространстве. Вычисляется по теореме Пифагора\n",
        "$$||x||_2 = \\sqrt {\\sum\\limits_{i=1}^nx_i^2} = \\sqrt{x^Tx}$$\n",
        "\n",
        "$$L_1 \\ge L_2 $$\n",
        "\n",
        "[подробнее](http://www.aiportal.ru/articles/autoclassification/measure-distance.html)"
      ],
      "metadata": {
        "id": "AfSBpu374ZrQ"
      }
    },
    {
      "cell_type": "markdown",
      "source": [
        "Определить норму вектора, образованного точками с координатами A и B:\n",
        "\n",
        "\\begin{equation*}\n",
        "A = \\left(\n",
        "\\begin{array}{cccc}\n",
        "1 \\\\\n",
        "2 \\\\\n",
        "3\n",
        "\\end{array}\n",
        "\\right)\n",
        "\\end{equation*}\n",
        "\n",
        "\\begin{equation*}\n",
        "B = \\left(\n",
        "\\begin{array}{cccc}\n",
        "-1 \\\\\n",
        "-1 \\\\\n",
        "0\n",
        "\\end{array}\n",
        "\\right)\n",
        "\\end{equation*}\n",
        "\n",
        "$\\vec{AB} = B - A = \\begin{equation*}\n",
        "\\left(\n",
        "\\begin{array}{cccc}\n",
        "-2 \\\\\n",
        "-3 \\\\\n",
        "-3\n",
        "\\end{array}\n",
        "\\right)\n",
        "\\end{equation*}$\n",
        "\n",
        "$$||x_1|| = 8$$\n",
        "\n",
        "$$||x_2|| = \\sqrt{22}$$"
      ],
      "metadata": {
        "id": "w-is4wca8TIS"
      }
    },
    {
      "cell_type": "markdown",
      "source": [
        "#Прямая на плоскости\n",
        "\n",
        "$Ax + By + C = 0$ A и B не равны 0 одновременно\n",
        "\n",
        "пересекает оси x и y в точках $(-\\frac{C}{A},0) (0, -\\frac{C}{B})$\n",
        "\n",
        "$x = C$ - параллельно оси y \n",
        "$y = C$ - параллельно оси x\n",
        "\n",
        "$y = -\\frac{A}{B}x - \\frac{C}{B} \\Rightarrow y = kx + b$ - уравнение прямой с угловым коэффициентом\n",
        "\n",
        "k:\n",
        "- совпадает у параллельных прямых\n",
        "- равен тангенсу угла наклона прямой\n",
        "- положителен, если прямая возрастает, отрицателен - если убывает\n",
        "\n",
        "b - точка пересечения с осью OY\n",
        "\n",
        "\n",
        "__нахождение угла между прямыми__\n",
        "\n",
        "$$A_1x + B_1y +C \\,\\,\\, и \\,\\,\\, A_2x + b_2y + C = 0$$\n",
        "\n",
        "$$tg\\alpha = \\frac{A_2B_1 - A_1B_2}{A_1A_2 + B_1B_2}$$\n",
        "\n",
        "$$y = kx + b$$\n",
        "\n",
        "$$tg\\alpha = \\frac{k_1 - k_2}{1 + k_1k_2}$$\n",
        "\n",
        "\n"
      ],
      "metadata": {
        "id": "_6n3d1HZ4HGw"
      }
    },
    {
      "cell_type": "markdown",
      "source": [
        "#Уравнения кривых второго порядка(на плоскости)\n",
        "\n",
        "$Ax^2 + Bxy + Cy^2 + Dx + Ey + F = 0$\n",
        "\n",
        "\n",
        "\n"
      ],
      "metadata": {
        "id": "6XlYIS2U4JWI"
      }
    },
    {
      "cell_type": "markdown",
      "source": [
        "![Без названия.png](data:image/png;base64,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)"
      ],
      "metadata": {
        "id": "vF3eeM2Eh1Da"
      }
    },
    {
      "cell_type": "markdown",
      "source": [
        "#Задачи на уравнение плоскости"
      ],
      "metadata": {
        "id": "MhvplUC94Pig"
      }
    },
    {
      "cell_type": "markdown",
      "source": [
        "#Комплексные числа"
      ],
      "metadata": {
        "id": "kK_l4lx44TIR"
      }
    }
  ]
}