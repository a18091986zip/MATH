{
  "nbformat": 4,
  "nbformat_minor": 0,
  "metadata": {
    "colab": {
      "name": "6 Lesson Probability Theory Elements.ipynb",
      "provenance": [],
      "authorship_tag": "ABX9TyNp/4M3C61wjrLY0XFwrz0T",
      "include_colab_link": true
    },
    "kernelspec": {
      "name": "python3",
      "display_name": "Python 3"
    },
    "language_info": {
      "name": "python"
    }
  },
  "cells": [
    {
      "cell_type": "markdown",
      "metadata": {
        "id": "view-in-github",
        "colab_type": "text"
      },
      "source": [
        "<a href=\"https://colab.research.google.com/github/a18091986/MATH/blob/advanced-math-introduction/6_Lesson_Probability_Theory_Elements.ipynb\" target=\"_parent\"><img src=\"https://colab.research.google.com/assets/colab-badge.svg\" alt=\"Open In Colab\"/></a>"
      ]
    },
    {
      "cell_type": "markdown",
      "source": [
        "__Классическое определение вероятности__\n",
        "\n",
        "Испытание с N равновероятных исходов. Пусть n потенциальных исходов благоприятствуют событию А, а (N - n) не благоприятствуют событию А. Тогда вероятность события А:\n",
        "\n",
        "$P(A) = \\frac{n}{N}$"
      ],
      "metadata": {
        "id": "RuuybMh0gFh-"
      }
    },
    {
      "cell_type": "markdown",
      "source": [
        "События называются __несовместными__ если никакие из них не могут появиться одновременно в результате однократного испытания случайного эксперимента\n",
        "\n",
        "__Теорема сложения__  для несовместных событий:\n",
        "\n",
        "$$P(A+B = P(A) + P(B)$$\n",
        "\n",
        "__Теорема умножения__  для независимых событий:\n",
        "\n",
        "$$P(AB) = P(A) * P(B)$$"
      ],
      "metadata": {
        "id": "xFrKDJO8gysR"
      }
    },
    {
      "cell_type": "markdown",
      "source": [
        "__Комбинаторика__\n",
        "\n",
        "__Число сочетаний из n по k__ (порядок не важен)\n",
        "\n",
        "$C_n^k = \\frac{n!}{(n-k)!k!}$\n",
        "\n",
        "__Число размещений из n по k__ (порядок важен)\n",
        "\n",
        "$А_n^k = \\frac{n!}{(n-k)!}$\n",
        "\n",
        "__Число перестановок__\n",
        "\n",
        "N!"
      ],
      "metadata": {
        "id": "0r3cFHF41pTF"
      }
    },
    {
      "cell_type": "markdown",
      "source": [
        "Сколько раз надо бросить игральную кость, чтобы на 95 % быть уверенным в том, что хотя бы в одном бросании появится тройка\n",
        "\n",
        "$P(\\overline 3) = \\frac{5}{6}$\n",
        "\n",
        "$\\left (\\frac{5}{6} \\right)^n \\leq 0.05$\n",
        "\n",
        "$n \\geq log_{\\frac{5}{6}}0.05$\n",
        "\n",
        "$n \\geq 17$"
      ],
      "metadata": {
        "id": "a0A3ewsx6WFx"
      }
    },
    {
      "cell_type": "markdown",
      "source": [
        "__Формула Бернулли__\n",
        "\n",
        "$P_n(K) = C_n^kp^kq^{(n-k)}$\n",
        "\n",
        "Вероятность того, что в n независимых испытаниях, в каждом из которых вероятность появления события равна Р, событие наступит ровно К раз. "
      ],
      "metadata": {
        "id": "dh8U4SBC_b04"
      }
    },
    {
      "cell_type": "code",
      "source": [
        ""
      ],
      "metadata": {
        "id": "vqmcBDYQ_6Ll"
      },
      "execution_count": null,
      "outputs": []
    }
  ]
}