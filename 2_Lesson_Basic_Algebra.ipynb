{
  "nbformat": 4,
  "nbformat_minor": 0,
  "metadata": {
    "colab": {
      "name": "2 Lesson Basic Algebra.ipynb",
      "provenance": [],
      "authorship_tag": "ABX9TyMhdnsTCq5VxzqXdassJq5L",
      "include_colab_link": true
    },
    "kernelspec": {
      "name": "python3",
      "display_name": "Python 3"
    },
    "language_info": {
      "name": "python"
    }
  },
  "cells": [
    {
      "cell_type": "markdown",
      "metadata": {
        "id": "view-in-github",
        "colab_type": "text"
      },
      "source": [
        "<a href=\"https://colab.research.google.com/github/a18091986/MATH/blob/advanced-math-introduction/2_Lesson_Basic_Algebra.ipynb\" target=\"_parent\"><img src=\"https://colab.research.google.com/assets/colab-badge.svg\" alt=\"Open In Colab\"/></a>"
      ]
    },
    {
      "cell_type": "markdown",
      "source": [
        "#Полезные ссылки"
      ],
      "metadata": {
        "id": "2hU1A8hmmROn"
      }
    },
    {
      "cell_type": "markdown",
      "source": [
        "- https://www.youtube.com/c/3blue1brown/videos?view=0&sort=dd&flow=grid\n",
        "\n",
        "\n",
        "- https://www.wolframalpha.com/\n",
        "\n",
        "\n",
        "- https://www.desmos.com/calculator?lang=ru\n",
        "\n",
        "\n",
        "- http://mathprofi.ru/\n",
        "\n",
        "минимум теории, много задач с разборами\n",
        "\n",
        "\n",
        "- https://matematikam.ru/calculate-online/\n",
        "\n",
        "\n",
        "- https://mml-book.github.io\n",
        "\n",
        "книга с юпитер-ноутбуками\n",
        "\n",
        "\n"
      ],
      "metadata": {
        "id": "0j-w76fNp0zu"
      }
    },
    {
      "cell_type": "markdown",
      "source": [
        "__решение квадратных уравнений__\n",
        "\n",
        "$$ax^2 + bx + c = 0 $$\n",
        "$$D = b^2 - 4ac$$\n",
        "$$x_{1,2} = \\frac{-b \\pm  \\sqrt D}{2a}$$"
      ],
      "metadata": {
        "id": "fJpRhW1v1H97"
      }
    },
    {
      "cell_type": "markdown",
      "source": [
        "__система уравнений по текстовому описанию задачи__\n",
        "\n",
        "Молодой человек согласился работать с условием, что в конце года он получит автомобиль и 2600. Но по истечении 8 месяцев уволился и при расчете получил автомобиль и 1000. Сколько стоил автомобиль?"
      ],
      "metadata": {
        "id": "Wq4hOpY79EvG"
      }
    },
    {
      "cell_type": "markdown",
      "source": [
        "$$(2600 + x)\\cdot\\frac{2}{3} = 1000 + x \\Rightarrow 2600 + x = 1500 + 1.5x \\Rightarrow x = 2200 $$:"
      ],
      "metadata": {
        "id": "_xeRYYac9WY1"
      }
    },
    {
      "cell_type": "markdown",
      "source": [
        "Из данных 4х чисел первые три соотносятся между собой $\\frac{1}{5}:\\frac{1}{3}:\\frac{1}{20}$, а четвертое составляет 15% второго. Найти эти числа, если известно, что второе число на 8 больше суммы остальных"
      ],
      "metadata": {
        "id": "DMcV-8ZKBM2p"
      }
    },
    {
      "cell_type": "markdown",
      "source": [
        "$$\\frac {a}{b} = \\frac {1}{5} : \\frac {1}{3} \\Rightarrow a = \\frac {3}{5} b$$\n",
        "\n",
        "$$\\frac {b}{c} = \\frac {1}{3} : \\frac {1}{20} \\Rightarrow c = \\frac {3}{20} b$$\n",
        "\n",
        "$$d = 0.15 b$$\n",
        "\n",
        "$$b = a + c + d + 8  \\Rightarrow 100b = 60b + 15b + 15b + 800 \\Rightarrow b = 80, a = 48, c = 12, d = 12 $$ \n"
      ],
      "metadata": {
        "id": "ScTsaYtdBx6-"
      }
    },
    {
      "cell_type": "markdown",
      "source": [
        "__логарифмы__"
      ],
      "metadata": {
        "id": "0qtF7JBRFKEt"
      }
    },
    {
      "cell_type": "markdown",
      "source": [
        "$log_ab$ - логарифм b по основанию a\n",
        "\n",
        "$$log_ab = c \\,\\,\\,\\,\\ a,b > 0, a \\neq 1 $$\n",
        "\n",
        "Показывает в какую степень надо возвести a, чтобы получить b\n",
        "\n",
        "$$a^c = b$$"
      ],
      "metadata": {
        "id": "qPeTMUoGTBQ6"
      }
    },
    {
      "cell_type": "markdown",
      "source": [
        "__свойства логарифмов__\n",
        "\n",
        "$$log_a1 = 0$$\n",
        "$$log_aa = 1$$\n",
        "$$a^{log_ab} = b$$\n",
        "$$log_a{xy} = log_a|x| + log_a|y|$$\n",
        "$$log_a{\\frac{x}{y}} = log_a|x| - log_a|y|$$\n",
        "$$log_ax^n = nlog_a|x|$$\n",
        "$$log_{a^n}x = \\frac{1}{n}log_{|a|}x$$\n",
        "$$log_{a^n}x^n = log_ax$$\n",
        "$$log_ab = \\frac{log_cb}{log_ca}$$\n",
        "$$log_ab = \\frac{1}{log_ba}$$\n",
        "$$a^{log_bc} = c^{log_ba}$$"
      ],
      "metadata": {
        "id": "yQtUa9VpT8df"
      }
    },
    {
      "cell_type": "markdown",
      "source": [
        "__задачи__"
      ],
      "metadata": {
        "id": "mT0CfziIV_t-"
      }
    },
    {
      "cell_type": "markdown",
      "source": [
        "$log_264 = 6$\n",
        "\n",
        "$log_416 = 2$\n",
        "\n",
        "$log_5\\frac{1}{25} = -2$\n",
        "\n",
        "$log_{25}5 = \\frac{1}{2}$\n",
        "\n",
        "$log_{\\frac{1}{3}}3 = -1$\n",
        "\n",
        "$log_636 = 2$\n",
        "\n",
        "$log_3\\sqrt{27} = \\frac{3}{2}$\n",
        "\n",
        "$log_{\\sqrt2}2 = 2$\n",
        "\n",
        "$log_264 + log_416 = 8$\n",
        "\n",
        "$log_212 - log_23 = 2$"
      ],
      "metadata": {
        "id": "uZBnvtB4WDFU"
      }
    },
    {
      "cell_type": "markdown",
      "source": [
        "$2^x = 3 \\Rightarrow x = log_23$\n",
        "\n"
      ],
      "metadata": {
        "id": "ENY_X6ekX26M"
      }
    },
    {
      "cell_type": "markdown",
      "source": [
        "$log_2(x-7) = 5 \\Rightarrow x = 39\\,\\,\\, ОДЗ: x > 7$\n"
      ],
      "metadata": {
        "id": "UKnPYAVtYSiU"
      }
    },
    {
      "cell_type": "markdown",
      "source": [
        "$$log_2(x-7) < 5 ⇔ log_2(x-7) < log_232$$\n",
        "$$$$\n",
        "$$\\begin{equation*}\n",
        "\\begin{cases}\n",
        "x - 7 < 32\\\\\n",
        "x - 7 > 0 \\,\\,\\,   (из \\,\\,\\,ОДЗ)\n",
        "\\end{cases}\n",
        "\\end{equation*}$$\n",
        "$$$$\n",
        "$$x \\in (7;39)$$"
      ],
      "metadata": {
        "id": "1CyFTSwxZEUM"
      }
    },
    {
      "cell_type": "markdown",
      "source": [
        "При переходе от сравнения логарифмов к сравнению подлогарифменных выражений __знак меняется на противоположный, если основание логарифмов меньше 1__"
      ],
      "metadata": {
        "id": "SDI2dh_FbrLk"
      }
    },
    {
      "cell_type": "markdown",
      "source": [
        "$$log_{\\frac{1}{2}}(x-7) < 5$$\n",
        "$$log_{\\frac{1}{2}}(x-7) < log_{\\frac{1}{2}}{\\Bigl(\\frac{1}{2}}\\Bigr)^5$$ \n",
        "\n",
        "$$\n",
        "\\begin{equation*}\n",
        "\\begin{cases}\n",
        "x - 7 > \\frac{1}{32}\\\\\n",
        "x - 7 > 0\n",
        "\\end{cases}\n",
        "\\end{equation*}\n",
        "\\Rightarrow x > 7\\frac{1}{32} $$\n",
        "\n"
      ],
      "metadata": {
        "id": "X-pvF3GUb2Ja"
      }
    },
    {
      "cell_type": "markdown",
      "source": [
        "$$x^{log_3x-2} = 27$$\n",
        "$$log_3x^{log_3x-2} = log_327$$\n",
        "$$(log_3x-2)log_3x = 3$$\n",
        "$$t^2 - 2t -3 = 0 \\Rightarrow t_1 = 3 \\,\\,\\, t_2 = -1 ⇒ x_1 = \\frac{1}{3} \\,\\,\\,x_2 = 27$$"
      ],
      "metadata": {
        "id": "Xx7esAZpdn1i"
      }
    }
  ]
}