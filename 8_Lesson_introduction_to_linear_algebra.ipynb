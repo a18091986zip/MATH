{
  "nbformat": 4,
  "nbformat_minor": 0,
  "metadata": {
    "colab": {
      "name": "8 Lesson introduction to linear algebra.ipynb",
      "provenance": [],
      "authorship_tag": "ABX9TyO7allPq6B44TAZ6Q3Z02/f",
      "include_colab_link": true
    },
    "kernelspec": {
      "name": "python3",
      "display_name": "Python 3"
    },
    "language_info": {
      "name": "python"
    }
  },
  "cells": [
    {
      "cell_type": "markdown",
      "metadata": {
        "id": "view-in-github",
        "colab_type": "text"
      },
      "source": [
        "<a href=\"https://colab.research.google.com/github/a18091986/MATH/blob/advanced-math-introduction/8_Lesson_introduction_to_linear_algebra.ipynb\" target=\"_parent\"><img src=\"https://colab.research.google.com/assets/colab-badge.svg\" alt=\"Open In Colab\"/></a>"
      ]
    },
    {
      "cell_type": "markdown",
      "source": [
        "**МНК для нелинейных функций**"
      ],
      "metadata": {
        "id": "F_KPbtzwQc_A"
      }
    },
    {
      "cell_type": "markdown",
      "source": [
        "$y = {e}^{ax+b}$\n",
        "\n",
        "$ln(y) = ax + b$"
      ],
      "metadata": {
        "id": "4BBmPxy1Qv6F"
      }
    },
    {
      "cell_type": "markdown",
      "source": [
        "**Базис** - множество векторов в линейном пространстве, таких, что любой вектор пространства может быть единственным образом представлен в виде их линейной комбинации\n",
        "\n",
        "Два вектора образуют __базис__ если они __не коллинеарны__ (линейно независимы)"
      ],
      "metadata": {
        "id": "95BbsfzHRMGA"
      }
    },
    {
      "cell_type": "markdown",
      "source": [
        "$С = A * B = \\left(\n",
        "\\begin{array}{cccc}\n",
        "3 & 1\\\\\n",
        "1 & 2\\\\\n",
        "\\end{array}\n",
        "\\right) \\cdot \\left(\n",
        "\\begin{array}{cccc}\n",
        "-1\\\\\n",
        "2\n",
        "\\end{array}\n",
        "\\right) = \n",
        "\\left(\\begin{array}{cccc}\n",
        "-1\\\\\n",
        "3\n",
        "\\end{array}\\right)\n",
        "$\n",
        "\n",
        "- Вектор B в исходном базисе {(1,0), (0,1)}\n",
        "- Матрица A задает новый базис\n",
        "- Вектор С - вектор В в новом базисе"
      ],
      "metadata": {
        "id": "MJ6bxgfeT3ny"
      }
    },
    {
      "cell_type": "markdown",
      "source": [
        "__Определитель матрицы__\n",
        "- вычисляется только для квадратной матрицы\n",
        "- метод Саррюса\n",
        "- разложение по строке\n",
        "\n"
      ],
      "metadata": {
        "id": "_pc1NuHhVrJx"
      }
    },
    {
      "cell_type": "markdown",
      "source": [
        "__Теорема Лапласа__\n",
        "\n",
        "Определитель n-го порядка равен сумме произведений элементов любой строки на алгебраические дополнения этих элементов \n",
        "\n",
        "$det A  = ΔA= \\sum\\limits_{j=1}^na_{ij}A_{ij}$\n",
        "\n",
        "$A_{ij} = (-1)^{i+j}\\cdot M_{ij}$\n",
        "\n",
        "$M_{ij} - минор \\,\\, ij$ - матрица, получающаяся из исходной удалением i-й строки и j-го столбца\n",
        "\n",
        "__Свойства определителя__\n",
        "\n",
        "- $|A| = |A^t|$\n",
        "- $ |λA| = \\lambda^n|A|$ n - количество строк(столбцов) матрицы\n",
        "- определелитель матрицы с пропорцилональными строками = 0\n",
        "- $ определитель треугольной матрицы = произведению элементов главной диагонали$"
      ],
      "metadata": {
        "id": "Cx7bsExNWnMr"
      }
    },
    {
      "cell_type": "markdown",
      "source": [
        "__Обратная матрица__\n",
        "\n",
        "для существования обратной матрицы требуется, чтобы определитель исходной матрицы не был равен 0\n",
        "\n",
        "__Свойства__\n",
        "- $A \\cdot A^{-1} = E$ (по определению)\n",
        "- $ (A^{-1})^{-1} = A$\n",
        "- $ (AB)^{-1} = B^{-1}A^{-1}$\n",
        "- $ (A^T)^{-1} = (A^{-1})^T$\n",
        "- $ detA^{-1} = \\frac{1}{detA}$\n",
        "- $ E^{-1} = E$"
      ],
      "metadata": {
        "id": "l6cH0-xHac26"
      }
    },
    {
      "cell_type": "markdown",
      "source": [
        "__Линейная независимость__"
      ],
      "metadata": {
        "id": "boeOs99ZcgzP"
      }
    },
    {
      "cell_type": "markdown",
      "source": [
        "Система векторов $\\overline a_1 ... \\overline a_n$ называется __линейно независимой__, если $\\lambda_1 \\overline a_1 + ..... \\lambda_n \\overline a_n = \\overline 0$ тогда и только тогда, когда все числа $\\lambda_1 .... \\lambda_n$ равны 0\n",
        "\n",
        "__ранг матрицы__ - максимальное количество линейно независимых строк\n"
      ],
      "metadata": {
        "id": "yK-G8rBmc3eS"
      }
    },
    {
      "cell_type": "markdown",
      "source": [
        "__Произведение векторов__\n",
        " - скалярное \n",
        "$$ \\overline a \\cdot \\overline b = |\\overline a| \\cdot |\\overline b| \\cdot cos ϕ$$\n",
        " \n",
        "$$\\overline a \\cdot \\overline b = x_1x_2 + y_1y_2 + z_1z_2$$\n",
        " - векторное $ |\\overline c| = |\\overline a| \\cdot |\\overline b| \\cdot sin\\phi$\n",
        " - смешанное (векторное произведение a и b, скалярное произведение (ab) и с)\n",
        "$$ a х b \\cdot  c$$\n"
      ],
      "metadata": {
        "id": "fc9Qhhg7prIp"
      }
    },
    {
      "cell_type": "code",
      "execution_count": null,
      "metadata": {
        "id": "7c1huMNSQE65"
      },
      "outputs": [],
      "source": [
        ""
      ]
    }
  ]
}