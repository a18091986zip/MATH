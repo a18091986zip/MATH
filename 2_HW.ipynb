{
  "nbformat": 4,
  "nbformat_minor": 0,
  "metadata": {
    "colab": {
      "name": "2 HW.ipynb",
      "provenance": [],
      "authorship_tag": "ABX9TyPOgKsiBFSfjrynhLAdlkel",
      "include_colab_link": true
    },
    "kernelspec": {
      "name": "python3",
      "display_name": "Python 3"
    },
    "language_info": {
      "name": "python"
    }
  },
  "cells": [
    {
      "cell_type": "markdown",
      "metadata": {
        "id": "view-in-github",
        "colab_type": "text"
      },
      "source": [
        "<a href=\"https://colab.research.google.com/github/a18091986/MATH/blob/advanced-math-introduction/2_HW.ipynb\" target=\"_parent\"><img src=\"https://colab.research.google.com/assets/colab-badge.svg\" alt=\"Open In Colab\"/></a>"
      ]
    },
    {
      "cell_type": "markdown",
      "source": [
        "## 1. Задание \n",
        "Напишите уравнение параболы, проходящей через три точки (x,y):\n",
        "(1,2), (3,10), (5,1)\n"
      ],
      "metadata": {
        "id": "WoYV4NTl0csh"
      }
    },
    {
      "cell_type": "markdown",
      "source": [
        "$$ax^2 + bx + c = y$$\n",
        "\n",
        "Подставляя данные из условия, получаем систему уравнений:\n",
        "\n",
        "$$\\begin{equation*}\n",
        "\\begin{cases}\n",
        "a + b + c = 2\\\\\n",
        "9a + 3b + c = 10\\\\\n",
        "25a + 5b + c = 1\n",
        "\\end{cases}\n",
        "\\end{equation*}$$\n",
        "\n",
        "Вычитая из 2го уравнения 1ое, получаем: $a = 1 - \\frac{b}{4}$.\n",
        "Вычитая из 3го уравнения 1ое, получаем: $ a = -\\frac{1+4b}{24}$\n",
        "Следовательно: $1 - \\frac{b}{4} = - \\frac{1+4b}{24} \\Rightarrow 25 = 2b \\Rightarrow b = 12.5 \\Rightarrow$\n",
        "\n",
        "Ответ: $$a = - 2.125, b = 12.5, c = -8.375$$\n",
        "\n",
        "\n"
      ],
      "metadata": {
        "id": "V0D5cbDQ40bb"
      }
    },
    {
      "cell_type": "markdown",
      "source": [
        "## 2. Задание \n",
        "Известно, что свежий огурец на 99% состоит из воды. Месяц назад взвесили мешок со свежими огурцами. Получилось, что мешок весил ровно 100 кг. Мешок убрали, а через месяц снова взвесили. Огурцы за это время усохли, и теперь вода составляет уже только 98% их веса. Сколько теперь (в кг) весят огурцы?\n"
      ],
      "metadata": {
        "id": "qUZvqvMr0igw"
      }
    },
    {
      "cell_type": "markdown",
      "source": [
        "пусть:\n",
        "\n",
        "s - сухой остаток от огурца без воды\n",
        "\n",
        "v - вода\n",
        "\n",
        "$$s + v = s + 0.99 s = 100 кг \\Rightarrow s = 1 кг$$\n",
        "\n",
        "После \"сушки\":\n",
        "\n",
        "$$\\frac{s+v}{v} = 0.98 \\Rightarrow v = 49 кг \\Rightarrow$$  \n",
        "\n",
        "Ответ:\n",
        "$$s + v = 50 кг$$\n"
      ],
      "metadata": {
        "id": "l2U8oFh04tsH"
      }
    },
    {
      "cell_type": "markdown",
      "source": [
        "## 3. Задание\n",
        "Определение логарифма. Решить уравнения:\n",
        "\n",
        "3.1 $2^x = 256$\n",
        "\n",
        "- $x = 8$\n",
        "\n",
        "3.2 $2^x = 300$\n",
        "\n",
        "- $x = log_2300$\n",
        "\n",
        "3.3* $log_82^{8x-4} = 4$\n",
        "\n",
        "- $8x-4 = 12 ⇒ x = 2$\n",
        "\n",
        "3.4* $3^{log_9(5x-5)} = 5$\n",
        "\n",
        "- $\\sqrt{(5x-5)} = 5 ⇒  x = 6$\n",
        "\n",
        "3.5* $x^{log_3x+1} = 9$\n",
        "- $(log_3x+1)*log_3x = 2 ⇒ t^2 + t -2 = 0 ⇒ t_1 = 1, t_2 = -2 ⇒ x_1 = 3, x_2 = \\frac{1}{9}$\n",
        "\n",
        "Оба ответа находятся в ОДЗ\n",
        "\n"
      ],
      "metadata": {
        "id": "AJQ5GfA20mYJ"
      }
    },
    {
      "cell_type": "markdown",
      "source": [
        "## 4. Задание\n",
        "Свойства логарифмов. Вычислить\n",
        "\n",
        "4.1 $log_416 = 2$\n",
        "\n",
        "4.2 $log_5\\frac{1}{25} = -2$\n",
        "\n",
        "4.3 $log_{25}5 = \\frac{1}{2}$\n",
        "\n",
        "4.4 $log_3\\sqrt{27} = \\frac{3}{2}$\n",
        "\n",
        "4.5 $log_212 - log_23 = 2$\n",
        "\n",
        "4.6 $log_612 + log_63 = 2$\n",
        "\n",
        "4.7 $e^{ln5} = 5$\n",
        "\n",
        "4.8 $\\frac{log_2225}{log_215} = log_{15}225 = 2$\n",
        "\n",
        "4.9 $log_432 + log_{0.1}10 = \\frac{1}{2}log_232 - 1 = 1.5$\n",
        "\n",
        "4.10* $9^{log_3\\sqrt5} = \\Bigl({3^{log_3\\sqrt5}}\\Bigr)^2 = 5$"
      ],
      "metadata": {
        "id": "ivy375BJ2tkp"
      }
    }
  ]
}