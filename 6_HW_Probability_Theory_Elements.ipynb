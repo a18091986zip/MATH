{
  "nbformat": 4,
  "nbformat_minor": 0,
  "metadata": {
    "colab": {
      "name": "6_HW Probability Theory Elements.ipynb",
      "provenance": [],
      "authorship_tag": "ABX9TyOR6tYp3lw3hgDF+z8DG/6E",
      "include_colab_link": true
    },
    "kernelspec": {
      "name": "python3",
      "display_name": "Python 3"
    },
    "language_info": {
      "name": "python"
    }
  },
  "cells": [
    {
      "cell_type": "markdown",
      "metadata": {
        "id": "view-in-github",
        "colab_type": "text"
      },
      "source": [
        "<a href=\"https://colab.research.google.com/github/a18091986/MATH/blob/advanced-math-introduction/6_HW_Probability_Theory_Elements.ipynb\" target=\"_parent\"><img src=\"https://colab.research.google.com/assets/colab-badge.svg\" alt=\"Open In Colab\"/></a>"
      ]
    },
    {
      "cell_type": "markdown",
      "source": [
        "##Задание 1. \n",
        "Найти вероятность выпадения 2 или 5 очков при подбрасывании игральной кости, на гранях которой имеются соответственно 1,2,3,4,5 и 6 очков."
      ],
      "metadata": {
        "id": "dmWj-lmQP9Q3"
      }
    },
    {
      "cell_type": "markdown",
      "source": [
        "Ответ: $\\frac{1}{6} + \\frac{1}{6} = \\frac{1}{3}$"
      ],
      "metadata": {
        "id": "hhVEVx5UQR7k"
      }
    },
    {
      "cell_type": "markdown",
      "source": [
        "##Задание 2. \n",
        "Найти вероятность того, что при двух подбрасываниях той же самой игральной кости сначала выпадет 2, а затем 5."
      ],
      "metadata": {
        "id": "nfxPq3OcQi_R"
      }
    },
    {
      "cell_type": "markdown",
      "source": [
        "Ответ: $\\frac{1}{6} * \\frac{1}{6} = \\frac{1}{36}$"
      ],
      "metadata": {
        "id": "giGoQ36XQo8Y"
      }
    },
    {
      "cell_type": "markdown",
      "source": [
        "## Задание 3. \n",
        "Найти вероятность выпадения 2 и 5 очков при двух подбрасываниях той же самой игральной игральной кости. Обратите внимание на порядок выпадения костей!"
      ],
      "metadata": {
        "id": "QuE53WFrQu5-"
      }
    },
    {
      "cell_type": "markdown",
      "source": [
        "Ответ: т.к. в отличие от предыдущей задачи порядок выпадения 2 и 5 неважен, то нам подходит два исхода 2,5 и 5,2, следовательно $P = \\frac{1}{18}$"
      ],
      "metadata": {
        "id": "JnIEudaVSzLo"
      }
    },
    {
      "cell_type": "markdown",
      "source": [
        "## Задание 4.\n",
        "\n",
        "На отрезке AB длиной 20 см наугад отметили точку C. Какова вероятность, что она находится на расстоянии не более 9 см от точки А и не более 15 см от точки В?\n"
      ],
      "metadata": {
        "id": "GVY_mEQNTHmM"
      }
    },
    {
      "cell_type": "markdown",
      "source": [
        "Ответ: $P = \\frac{9-5}{20} = 0.2$"
      ],
      "metadata": {
        "id": "JzCIKig3TRPh"
      }
    },
    {
      "cell_type": "markdown",
      "source": [
        "## Задание 5.\n",
        "\n",
        "Телефонный номер состоит из 7 цифр. Какова вероятность, \n",
        "что это номер 8882227?"
      ],
      "metadata": {
        "id": "KggF8HRiUPDj"
      }
    },
    {
      "cell_type": "markdown",
      "source": [
        "Ответ: $\\frac{1}{9999999 - 999999} = \\frac{1}{9000000}$ \n",
        "\n",
        "или другим способом:\n",
        "\n",
        "$\\frac{1}{9}* \\bigl (\\frac{1}{10}\\bigr)^6$"
      ],
      "metadata": {
        "id": "rctHtbk-UXp5"
      }
    },
    {
      "cell_type": "markdown",
      "source": [
        "## Задание 6. \n",
        "Набирая номер телефона, абонент забыл 2 последние цифры, и, помня только то, что эти цифры различны и среди них нет нуля, стал набирать их наудачу. Сколько вариантов ему надо перебрать, чтобы наверняка найти нужный номер? Какова вероятность того, что он угадает номер с первого раза?"
      ],
      "metadata": {
        "id": "Z8jYlm91VyUr"
      }
    },
    {
      "cell_type": "markdown",
      "source": [
        "Ответ:\n",
        "\n",
        "количество исходов (вариантов): 9*8 = 72\n",
        "\n",
        "\n",
        "вероятность угадать с первого раза: $\\frac{1}{72}$"
      ],
      "metadata": {
        "id": "-HVd4Z9OV6rC"
      }
    },
    {
      "cell_type": "markdown",
      "source": [
        "## Задание 7. \n",
        "Чёрный куб покрасили снаружи белой краской, затем разрезали на 27 одинаковых маленьких кубиков и как попало сложили из них большой куб. С какой вероятностью  все грани этого куба будут белыми"
      ],
      "metadata": {
        "id": "cfkRF_zbWUqF"
      }
    },
    {
      "cell_type": "markdown",
      "source": [
        "При складывании большого кубика из маленьких важным будет правильно сориентировать 26 кубиков (ориентация центрального неважна)\n",
        "\n",
        "Ответ: $\\bigl (\\frac{1}{6} \\bigr) ^ {26} $"
      ],
      "metadata": {
        "id": "fIh7EKowWgHa"
      }
    }
  ]
}