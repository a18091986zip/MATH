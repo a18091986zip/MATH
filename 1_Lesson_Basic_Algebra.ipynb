{
  "nbformat": 4,
  "nbformat_minor": 0,
  "metadata": {
    "colab": {
      "name": "1 Lesson Basic Algebra.ipynb",
      "provenance": [],
      "authorship_tag": "ABX9TyPYWPCxEKBImbN9nm/BJSz7",
      "include_colab_link": true
    },
    "kernelspec": {
      "name": "python3",
      "display_name": "Python 3"
    },
    "language_info": {
      "name": "python"
    }
  },
  "cells": [
    {
      "cell_type": "markdown",
      "metadata": {
        "id": "view-in-github",
        "colab_type": "text"
      },
      "source": [
        "<a href=\"https://colab.research.google.com/github/a18091986/MATH/blob/advanced-math-introduction/1_Lesson_Basic_Algebra.ipynb\" target=\"_parent\"><img src=\"https://colab.research.google.com/assets/colab-badge.svg\" alt=\"Open In Colab\"/></a>"
      ]
    },
    {
      "cell_type": "markdown",
      "source": [
        "#Элементарная алгебра. Числа и переменные"
      ],
      "metadata": {
        "id": "mSX0zJeIvMbZ"
      }
    },
    {
      "cell_type": "markdown",
      "source": [
        "##Типы чисел (целые, рациональные, действительные)"
      ],
      "metadata": {
        "id": "TziFbCa2vicM"
      }
    },
    {
      "cell_type": "markdown",
      "source": [
        "__Натуральные__ числа $\\mathbb N$. Варажают счет. \n",
        "\n",
        "Если рассматривать с натуральными числами и отрицательные, то такое объединение называется __целыми__ числами $\\mathbb Z$. \n",
        "\n",
        "__Рациональные__ числа $\\mathbb Q$ - числа, которые можно представить в виде обыкновенной дроби вида $\\frac{m}{n}$\n",
        "\n",
        "__Иррациональные числа__ - действительные числа, которые не могут быть представлены в виде обыкновенной дроби, они могут быть представлены в виде бесконечной непериодической десятичной дроби \n",
        "\n",
        "__Действительные числа__ $\\mathbb R$ – числа, которые могут быть записаны в виде конечной или бесконечной (периодической или непериодической) десятичной дроби.\n",
        "\n",
        "__Комплексные числа__ $\\mathbb C$- числа, составленные из объединения мнимых ($i^2 = -1$) и действительных чисел, например: $15 + 10i$\n"
      ],
      "metadata": {
        "id": "bx6LwIsVv5iw"
      }
    },
    {
      "cell_type": "markdown",
      "source": [
        "<p align='center'><img src = 'https://egemaximum.ru/wp-content/uploads/2013/05/5.jpg' width=\"500\" height=\"300\"><p>"
      ],
      "metadata": {
        "id": "irGGEmTz6V3w"
      }
    },
    {
      "cell_type": "markdown",
      "source": [
        "##Векторы и матрицы"
      ],
      "metadata": {
        "id": "SXlH9oxg8cuI"
      }
    },
    {
      "cell_type": "markdown",
      "source": [
        "__Вектор__ - упорядоченная совокупность N вещественных чисел. \n",
        "\n",
        "\\begin{equation*}\n",
        "\\overrightarrow X = \\left[\n",
        "\\begin{array}{cccc}\n",
        "x_{1}\\\\\n",
        "x_{2}\\\\\n",
        "...\\\\\n",
        "x_{N}\n",
        "\\end{array}\n",
        "\\right]\n",
        "\\end{equation*}\n",
        "\n",
        "$$\\overrightarrow X = [x_1, x_2, ..., x_N]$$"
      ],
      "metadata": {
        "id": "Ctoi_tLLCWXw"
      }
    },
    {
      "cell_type": "markdown",
      "source": [
        "__Сложение векторов__ осуществляется путем сложения их компонент(координат)\n",
        "__Размерность__ вектора - количество компонент\n",
        "\n",
        "Можно складывать (вычитать) векторы только одной размерности. "
      ],
      "metadata": {
        "id": "1acSpX51EoL3"
      }
    },
    {
      "cell_type": "markdown",
      "source": [
        "__Матрица__ прямоугольная таблица из чисел, которая содержит некоторое количество строк и столбцов \n",
        "\n",
        "\\begin{equation*}\n",
        "A = \\left(\n",
        "\\begin{array}{cccc}\n",
        "a_{11} & a_{12} & \\ldots & a_{1n}\\\\\n",
        "a_{21} & a_{22} & \\ldots & a_{2n}\\\\\n",
        "\\vdots & \\vdots & \\ddots & \\vdots\\\\\n",
        "a_{m1} & a_{m2} & \\ldots & a_{mn}\n",
        "\\end{array}\n",
        "\\right)\n",
        "\\end{equation*}\n",
        "\n",
        "m х n - размерность матрицы\n",
        "\n",
        "__Сложение__ (вычитание) матриц производится путем их покомпонентного сложения\n",
        "__Умножение__ матрицы на скаляр осуществляется путем перемножение каждой компоненты матрицы на скаляр\n",
        "\n"
      ],
      "metadata": {
        "id": "3Kn5iyg_FL-h"
      }
    },
    {
      "cell_type": "markdown",
      "source": [
        "##Уравнения и системы уравнений"
      ],
      "metadata": {
        "id": "QSbH6dQ6J5wA"
      }
    },
    {
      "cell_type": "markdown",
      "source": [
        "__Квадратное уравнение__\n",
        "\n",
        "$$ax^2 + bx + c = 0$$\n",
        "$$D = b^2 -4ac$$\n",
        "$$x_1 = \\frac{-b + \\sqrt{b^2 -4ac}}{2a}$$\n",
        "$$x_2 = \\frac{-b - \\sqrt{b^2 -4ac}}{2a}$$"
      ],
      "metadata": {
        "id": "8PPuArvXKIUM"
      }
    },
    {
      "cell_type": "markdown",
      "source": [
        "__Система уравнений__\n",
        "$$\\begin{equation*}\n",
        "\\begin{cases}\n",
        "x + y = 101\\\\\n",
        "y - x = 100\n",
        "\\end{cases}\n",
        "\\end{equation*}$$\n",
        "\n",
        "\n",
        "__Линейное уравнение__ - это алгебраическое уравнение, у которого полная степень составляющих его многочленов равна 1\n",
        "\n",
        "Система уравнений называется линейной, если все уравнения, входящие в её состав - линейные."
      ],
      "metadata": {
        "id": "kd3JKCsDM2nP"
      }
    },
    {
      "cell_type": "markdown",
      "source": [
        "##Функции"
      ],
      "metadata": {
        "id": "ZzIK2A9IeRB2"
      }
    },
    {
      "cell_type": "markdown",
      "source": [
        "__Область определения__ - все возможные значения, которые может принимать аргумент\n",
        "\n",
        "__Область значения__ - все возможные значения, которые может принимать сама функция\n",
        "\n"
      ],
      "metadata": {
        "id": "RZIMh1R8eYOs"
      }
    }
  ]
}