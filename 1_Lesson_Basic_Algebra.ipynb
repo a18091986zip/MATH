{
  "nbformat": 4,
  "nbformat_minor": 0,
  "metadata": {
    "colab": {
      "name": "1 Lesson Basic Algebra.ipynb",
      "provenance": [],
      "authorship_tag": "ABX9TyNqCu/eD1rGPZEZvmeEvHw3",
      "include_colab_link": true
    },
    "kernelspec": {
      "name": "python3",
      "display_name": "Python 3"
    },
    "language_info": {
      "name": "python"
    }
  },
  "cells": [
    {
      "cell_type": "markdown",
      "metadata": {
        "id": "view-in-github",
        "colab_type": "text"
      },
      "source": [
        "<a href=\"https://colab.research.google.com/github/a18091986/MATH/blob/advanced-math-introduction/1_Lesson_Basic_Algebra.ipynb\" target=\"_parent\"><img src=\"https://colab.research.google.com/assets/colab-badge.svg\" alt=\"Open In Colab\"/></a>"
      ]
    },
    {
      "cell_type": "code",
      "execution_count": null,
      "metadata": {
        "id": "IW4hHShMr1nt"
      },
      "outputs": [],
      "source": [
        ""
      ]
    }
  ]
}