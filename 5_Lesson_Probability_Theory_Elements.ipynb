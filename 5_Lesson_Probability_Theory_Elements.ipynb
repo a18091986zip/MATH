{
  "nbformat": 4,
  "nbformat_minor": 0,
  "metadata": {
    "colab": {
      "name": "5 Lesson Probability Theory Elements.ipynb",
      "provenance": [],
      "authorship_tag": "ABX9TyNq6Y9FRnbMwi9z7qBTiuNP",
      "include_colab_link": true
    },
    "kernelspec": {
      "name": "python3",
      "display_name": "Python 3"
    },
    "language_info": {
      "name": "python"
    }
  },
  "cells": [
    {
      "cell_type": "markdown",
      "metadata": {
        "id": "view-in-github",
        "colab_type": "text"
      },
      "source": [
        "<a href=\"https://colab.research.google.com/github/a18091986/MATH/blob/advanced-math-introduction/5_Lesson_Probability_Theory_Elements.ipynb\" target=\"_parent\"><img src=\"https://colab.research.google.com/assets/colab-badge.svg\" alt=\"Open In Colab\"/></a>"
      ]
    },
    {
      "cell_type": "code",
      "source": [
        "import numpy as np\n",
        "import matplotlib.pyplot as plt\n",
        "import matplotlib.mlab as mlab\n",
        "from scipy.stats import norm\n",
        "import itertools"
      ],
      "metadata": {
        "id": "WXxi6uuyxANN"
      },
      "execution_count": 26,
      "outputs": []
    },
    {
      "cell_type": "markdown",
      "source": [
        "#Случайные числа. Вероятность"
      ],
      "metadata": {
        "id": "L4c0eEUN1Xtw"
      }
    },
    {
      "cell_type": "markdown",
      "source": [
        "##Случайные и псевдослучайные числа\n",
        "\n",
        "__Случайное событие__ - событие, которое либо происходит, либо не происходит (при определенной совокупности условий)\n",
        "\n",
        "__Случайная величина__ - численное выражение результата случайного события (переменная)"
      ],
      "metadata": {
        "id": "dvcbw4bFv2eF"
      }
    },
    {
      "cell_type": "markdown",
      "source": [
        "##Вероятность\n",
        "\n",
        "__Вероятность P(A)__ - степень возможности наступления некоторого случаного события А (относительная мера, количественная оценка)\n",
        "\n",
        "__Относительная частота__ $W(A) = \\frac{m}{n}$, m - число наступлений события А, n - общее число испытаний\n",
        "\n",
        "При больших n $W(A) → P(A)$\n",
        "\n",
        "__Достоверное (невозможное) событие__ - обязательно происходящее (заведомо не происходящее) при определенной совокупности условий\n",
        "\n",
        "__Совместное (несовместное) событие__ - появление одного события не исключает появление других в одном и том же испытании\n",
        "\n",
        "__Зависимые (независимые) события__ - появление одного из них влияет (не влияет) на появление других\n",
        "\n",
        "__Противоположное (дополнительное) событие__  - состоит в непоявлении события А\n",
        "\n",
        "__Полная группа событий__ такая совокупность событий, что в результате опыта обязательно должно произойти хотя бы одно из событий этой совокупности. \n"
      ],
      "metadata": {
        "id": "j8ydOZ-twBax"
      }
    },
    {
      "cell_type": "markdown",
      "source": [
        "##Метод Монте-Карло\n",
        "\n",
        "В отличие от обычной модели прогнозирования, метод Монте-Карло предсказывает набор результатов на основе предполагаемого диапазона значений, а не набора фиксированных входных значений. Другими словами, моделирование методом Монте-Карло создает модель возможных результатов с использованием распределения вероятностей, например равномерного или нормального распределения, для любой переменной, которая содержит в себе элемент неопределенности. Затем выполняется повторное вычисление результатов с другими наборами случайных чисел в диапазоне от минимального до максимального значений. В типичном эксперименте Монте-Карло данная операция повторяется несколько тысяч раз для создания большого числа вероятных результатов."
      ],
      "metadata": {
        "id": "kBTwySQkwDYh"
      }
    },
    {
      "cell_type": "markdown",
      "source": [
        "##Теоремы теории вероятностей"
      ],
      "metadata": {
        "id": "CE76bAzjwFhQ"
      }
    },
    {
      "cell_type": "markdown",
      "source": [
        "\n",
        "- Если А и В несовместны, то Р(А+В) = Р(А) + Р(В)\n",
        "- Если А,В,.... - полная группа несовместных событий: Р(А) + Р(В) + ... = 1\n",
        "- Для противоположных событий Р(А) + Р(В) = 1\n",
        "\n",
        "- Если А и В независимы, то Р(АВ) = Р(А)*Р(В)\n",
        "- Если А и В зависимы, то Р(АВ) = Р(А)*Р(В|А)"
      ],
      "metadata": {
        "id": "HAABZOhv1RBT"
      }
    },
    {
      "cell_type": "code",
      "execution_count": null,
      "metadata": {
        "id": "ADbknOWYuB9K"
      },
      "outputs": [],
      "source": [
        "for i in range(0,5):\n",
        "  a = input()\n",
        "  x = np.random.uniform(0,10)\n",
        "  if x<5:\n",
        "    print('орел')\n",
        "  else:\n",
        "    print('решка')"
      ]
    },
    {
      "cell_type": "markdown",
      "source": [
        "#Законы распределения"
      ],
      "metadata": {
        "id": "p9U0cxYd1ene"
      }
    },
    {
      "cell_type": "markdown",
      "source": [
        "__функция распределения__ задает вероятность того, что случайная величина x будет меньше определенного значения\n",
        "\n",
        "__плотность вероятности__ $p(x) = \\frac{dP(x)}{dx}$\n",
        "\n",
        "задает вероятность попадания СВ в определенный интервал\n",
        "\n",
        "$$p(a < x < b) = ∫\\limits_{a}^bp(x)dx$$\n",
        "\n",
        "__среднее значение__\n",
        "\n",
        "$$ μ = \\frac{1}{n}\\sum \\limits_{i=1}^n x_i $$\n",
        "\n",
        "__дисперсия__\n",
        "\n",
        "$$ D = \\frac{1}{n}\\sum \\limits_{i=1}^n (x_i - \\mu)^2 $$\n",
        "__среднеквадратичное отклонение__\n",
        "\n",
        "$$ \\sigma = \\sqrt D$$"
      ],
      "metadata": {
        "id": "-zxgViHz1tGD"
      }
    },
    {
      "cell_type": "code",
      "source": [
        "k,m = 0,0\n",
        "n = 3\n",
        "for i in range(0,n):\n",
        "  x = np.random.uniform(0,10)\n",
        "  if x < 5:\n",
        "    print('орел')\n",
        "    k = k + 1\n",
        "  else:\n",
        "    print('решка')\n",
        "    m = m + 1\n",
        "print(k,m)\n",
        "\n"
      ],
      "metadata": {
        "colab": {
          "base_uri": "https://localhost:8080/"
        },
        "id": "-M8mLMfj3m2B",
        "outputId": "5863d546-5867-4c3f-c595-7e7fc0978032"
      },
      "execution_count": 5,
      "outputs": [
        {
          "output_type": "stream",
          "name": "stdout",
          "text": [
            "решка\n",
            "орел\n",
            "решка\n",
            "1 2\n"
          ]
        }
      ]
    },
    {
      "cell_type": "code",
      "source": [
        "x = np.random.rand(1000)\n",
        "num_bins = 5\n",
        "n, bins, patches = plt.hist(x, num_bins)\n",
        "plt.xlabel('x')\n",
        "plt.ylabel('Probability')\n",
        "plt.title('Histogram')\n",
        "plt.show()"
      ],
      "metadata": {
        "colab": {
          "base_uri": "https://localhost:8080/",
          "height": 295
        },
        "id": "6QLAJU717JGx",
        "outputId": "d32c8966-1068-4ca6-afef-3495aec3c8ed"
      },
      "execution_count": 10,
      "outputs": [
        {
          "output_type": "display_data",
          "data": {
            "image/png": "[encoded data removed]",
            "text/plain": [
              "<Figure size 432x288 with 1 Axes>"
            ]
          },
          "metadata": {
            "needs_background": "light"
          }
        }
      ]
    },
    {
      "cell_type": "code",
      "source": [
        "mu = 100\n",
        "sigma = 15\n",
        "x = mu + sigma * np.random.randn(10000)\n",
        "num_bins = 100\n",
        "n, bins, patches = plt.hist(x, num_bins, density=True, stacked=True, facecolor = 'blue', alpha = 0.5)\n",
        "y = norm.pdf(bins, mu, sigma)\n",
        "plt.plot(bins, y, 'r--')\n",
        "plt.xlabel('x')\n",
        "plt.ylabel('Probability')\n",
        "plt.title('Histogram: $\\mu=100$, $\\sigma = 15$')\n",
        "plt.subplots_adjust(left = 0.15)\n",
        "plt.show()"
      ],
      "metadata": {
        "colab": {
          "base_uri": "https://localhost:8080/",
          "height": 297
        },
        "id": "15vof4HL7n0a",
        "outputId": "fbf2fe85-a754-4536-ca53-05b700cf651d"
      },
      "execution_count": 22,
      "outputs": [
        {
          "output_type": "display_data",
          "data": {
            "image/png": "[encoded data removed]",
            "text/plain": [
              "<Figure size 432x288 with 1 Axes>"
            ]
          },
          "metadata": {
            "needs_background": "light"
          }
        }
      ]
    },
    {
      "cell_type": "markdown",
      "source": [
        "#Последовательность независимых испытаний"
      ],
      "metadata": {
        "id": "3D277KyW1g5t"
      }
    },
    {
      "cell_type": "markdown",
      "source": [
        "p - вероятность успеха\n",
        "q = 1 - p - вероятность неудачи\n",
        "\n",
        "Вероятность в результате проведения n испытаний k раз получить успех:\n",
        "\n",
        "__Формула Бернулли__:\n",
        "\n",
        "$$P_n(k) = C_n^kp^kq^{n-k} $$\n",
        "\n",
        "$$C_n^k = \\frac{n!}{k!(n-k)!}$$"
      ],
      "metadata": {
        "id": "fJd1yp1tBUFr"
      }
    },
    {
      "cell_type": "code",
      "source": [
        "k,n = 0, 1000\n",
        "a = np.random.randint(0,2,n)\n",
        "b = np.random.randint(0,2,n)\n",
        "c = np.random.randint(0,2,n)\n",
        "d = np.random.randint(0,2,n)\n",
        "x = a + b + c + d\n",
        "for i in range(0,n):\n",
        "  if x[i] == 2:\n",
        "    k = k + 1\n",
        "# print(a,b,c,d)\n",
        "# print(x)\n",
        "print(k, n, k/n)"
      ],
      "metadata": {
        "colab": {
          "base_uri": "https://localhost:8080/"
        },
        "id": "ibwTTK8ACvt2",
        "outputId": "4e598424-63b6-4ed9-8e05-ecf6c6fb971a"
      },
      "execution_count": 29,
      "outputs": [
        {
          "output_type": "stream",
          "name": "stdout",
          "text": [
            "377 1000 0.377\n"
          ]
        }
      ]
    },
    {
      "cell_type": "code",
      "source": [
        "for p in itertools.product(\"01\",repeat = 4):\n",
        "  print(''.join(p))"
      ],
      "metadata": {
        "colab": {
          "base_uri": "https://localhost:8080/"
        },
        "id": "dOK_gDAYDJcB",
        "outputId": "fda596bb-fdff-47a6-d72d-6788bdf3a9f6"
      },
      "execution_count": 30,
      "outputs": [
        {
          "output_type": "stream",
          "name": "stdout",
          "text": [
            "0000\n",
            "0001\n",
            "0010\n",
            "0011\n",
            "0100\n",
            "0101\n",
            "0110\n",
            "0111\n",
            "1000\n",
            "1001\n",
            "1010\n",
            "1011\n",
            "1100\n",
            "1101\n",
            "1110\n",
            "1111\n"
          ]
        }
      ]
    },
    {
      "cell_type": "markdown",
      "source": [
        "#Краткое введение в комбинаторику"
      ],
      "metadata": {
        "id": "beBPA-jw1lcM"
      }
    },
    {
      "cell_type": "markdown",
      "source": [
        "- Сочетания(сколькими способами можно выбрать k объектов из n. порядок не важен) \n",
        "$$С_n^k = \\frac{n!}{k!(n-k)!}$$\n",
        "- Размещения (важен порядок)\n",
        "$$A = n(n-1)....(n-k+1)$$"
      ],
      "metadata": {
        "id": "7cvvRuZZGJo_"
      }
    },
    {
      "cell_type": "code",
      "source": [
        "for p in itertools.permutations(\"0123\", 4): #размещения (перестановки)\n",
        "  print(''.join(str(x) for x in p))"
      ],
      "metadata": {
        "colab": {
          "base_uri": "https://localhost:8080/"
        },
        "id": "uOsXB8MJHTl_",
        "outputId": "b5c0ba07-8ec2-4f4f-a139-7cf5a182d350"
      },
      "execution_count": 42,
      "outputs": [
        {
          "output_type": "stream",
          "name": "stdout",
          "text": [
            "0123\n",
            "0132\n",
            "0213\n",
            "0231\n",
            "0312\n",
            "0321\n",
            "1023\n",
            "1032\n",
            "1203\n",
            "1230\n",
            "1302\n",
            "1320\n",
            "2013\n",
            "2031\n",
            "2103\n",
            "2130\n",
            "2301\n",
            "2310\n",
            "3012\n",
            "3021\n",
            "3102\n",
            "3120\n",
            "3201\n",
            "3210\n"
          ]
        }
      ]
    },
    {
      "cell_type": "code",
      "source": [
        "for p in itertools.combinations(\"0123\", 3):#сочетания\n",
        "  print(''.join(p))"
      ],
      "metadata": {
        "colab": {
          "base_uri": "https://localhost:8080/"
        },
        "id": "VWuSLRz8Hb1O",
        "outputId": "07ba97fc-1539-4c13-edf7-4e974fee1fa7"
      },
      "execution_count": 43,
      "outputs": [
        {
          "output_type": "stream",
          "name": "stdout",
          "text": [
            "012\n",
            "013\n",
            "023\n",
            "123\n"
          ]
        }
      ]
    },
    {
      "cell_type": "code",
      "source": [
        "for p in itertools.product(\"01\",repeat = 4):\n",
        "  print(''.join(p))"
      ],
      "metadata": {
        "colab": {
          "base_uri": "https://localhost:8080/"
        },
        "id": "cpJFIuNCHwRb",
        "outputId": "16b135b5-3de4-4136-d92f-e1834192ec2b"
      },
      "execution_count": 41,
      "outputs": [
        {
          "output_type": "stream",
          "name": "stdout",
          "text": [
            "0000\n",
            "0001\n",
            "0010\n",
            "0011\n",
            "0100\n",
            "0101\n",
            "0110\n",
            "0111\n",
            "1000\n",
            "1001\n",
            "1010\n",
            "1011\n",
            "1100\n",
            "1101\n",
            "1110\n",
            "1111\n"
          ]
        }
      ]
    },
    {
      "cell_type": "markdown",
      "source": [
        "#Регрессия и метод наименьших квадратов"
      ],
      "metadata": {
        "id": "ob-9ix4Q1o5k"
      }
    },
    {
      "cell_type": "markdown",
      "source": [
        "$$y = ax + b$$\n",
        "\n",
        "$$a = \\frac{\\sum x_i \\sum y_i - n \\sum x_iy_i}{\\big(\\sum x_i \\big)^2 - n \\sum x_i^2}$$\n",
        "$$b = \\frac{\\sum y_i - a \\sum x_i}{n}$$\n",
        "\n",
        "Коэффициент корреляции:\n",
        "\n",
        "$$R = \\frac{\\sum(x_i - x_m)(y_i - y_m)}{\\sqrt{∑(x_i - x_m)^2∑(y_i - y_m)^2}}$$\n",
        "- $x_m$ - среднее значение x\n",
        "- $y_m$ - среднее значение y"
      ],
      "metadata": {
        "id": "TY-zNPp5KPdh"
      }
    },
    {
      "cell_type": "code",
      "source": [
        "x = np.linspace(-2, 3, 21)\n",
        "plt.plot(x, x**2 - 1, 'ro-')\n",
        "plt.xlabel('x')\n",
        "plt.xlabel('y')\n",
        "plt.ylim(-1,5)\n",
        "plt.grid(True)\n",
        "plt.show()"
      ],
      "metadata": {
        "colab": {
          "base_uri": "https://localhost:8080/",
          "height": 283
        },
        "id": "FaIEfM-GLv9a",
        "outputId": "c771e6f0-cdf9-409d-9d6b-64facbd0656f"
      },
      "execution_count": 45,
      "outputs": [
        {
          "output_type": "display_data",
          "data": {
            "image/png": "[encoded data removed]",
            "text/plain": [
              "<Figure size 432x288 with 1 Axes>"
            ]
          },
          "metadata": {
            "needs_background": "light"
          }
        }
      ]
    },
    {
      "cell_type": "code",
      "source": [
        "n = 100\n",
        "r = 0.97\n",
        "\n",
        "x = np.random.rand(n)\n",
        "y = r*x + (1 - r)*np.random.rand(n)\n",
        "plt.plot(x, y, 'o')\n",
        "plt.xlabel('x')\n",
        "plt.xlabel('y')\n",
        "plt.grid(True)\n",
        "plt.show()\n",
        "\n",
        "c = np.corrcoef(x,y)\n",
        "print(c)"
      ],
      "metadata": {
        "colab": {
          "base_uri": "https://localhost:8080/",
          "height": 314
        },
        "id": "8RIlEuMJMHPG",
        "outputId": "b9288fda-8e18-4493-cad6-dccdf89c3250"
      },
      "execution_count": 49,
      "outputs": [
        {
          "output_type": "display_data",
          "data": {
            "image/png": "[encoded data removed]",
            "text/plain": [
              "<Figure size 432x288 with 1 Axes>"
            ]
          },
          "metadata": {
            "needs_background": "light"
          }
        },
        {
          "output_type": "stream",
          "name": "stdout",
          "text": [
            "[[1.        0.9995381]\n",
            " [0.9995381 1.       ]]\n"
          ]
        }
      ]
    },
    {
      "cell_type": "code",
      "source": [
        "n = 100\n",
        "r = 0.7\n",
        "x = np.random.rand(n)\n",
        "\n",
        "y = r*x + (1 - r)*np.random.rand(n)\n",
        "plt.plot(x, y, 'o')\n",
        "plt.xlabel('x')\n",
        "plt.xlabel('y')\n",
        "plt.grid(True)\n",
        "\n",
        "a = (np.sum(x)*np.sum(y) - n*np.sum(x*y))/(np.sum(x)*np.sum(x) - n*np.sum(x*x))\n",
        "b = (np.sum(y) - a*np.sum(x))/n\n",
        "\n",
        "R = np.sum((x-x.mean())*(y-y.mean()))/(np.sum((x-x.mean())**2)*np.sum((y-y.mean())**2))**0.5\n",
        "print(R)\n",
        "c = np.corrcoef(x,y)\n",
        "print(c[0,1])\n",
        "\n",
        "A = np.vstack([x, np.ones(len(x))]).T\n",
        "a1, b1 = np.linalg.lstsq(A, y)[0]\n",
        "print(a, b)\n",
        "print(a1, b1)\n",
        "\n",
        "plt.plot([0, 1], [b, a + b])\n",
        "plt.show()"
      ],
      "metadata": {
        "colab": {
          "base_uri": "https://localhost:8080/",
          "height": 403
        },
        "id": "LoW7uiH3M4GS",
        "outputId": "a6c57607-ae0b-4152-cd97-caf87502ac95"
      },
      "execution_count": 66,
      "outputs": [
        {
          "output_type": "stream",
          "name": "stdout",
          "text": [
            "0.91372255206455\n",
            "0.91372255206455\n",
            "0.7245489692574975 0.1338708161963096\n",
            "0.7245489692574991 0.13387081619630836\n"
          ]
        },
        {
          "output_type": "stream",
          "name": "stderr",
          "text": [
            "/usr/local/lib/python3.7/dist-packages/ipykernel_launcher.py:20: FutureWarning: `rcond` parameter will change to the default of machine precision times ``max(M, N)`` where M and N are the input matrix dimensions.\n",
            "To use the future default and silence this warning we advise to pass `rcond=None`, to keep using the old, explicitly pass `rcond=-1`.\n"
          ]
        },
        {
          "output_type": "display_data",
          "data": {
            "image/png": "[encoded data removed]",
            "text/plain": [
              "<Figure size 432x288 with 1 Axes>"
            ]
          },
          "metadata": {
            "needs_background": "light"
          }
        }
      ]
    }
  ]
}