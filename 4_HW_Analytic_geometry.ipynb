{
  "nbformat": 4,
  "nbformat_minor": 0,
  "metadata": {
    "colab": {
      "name": "4_HW Analytic geometry.ipynb",
      "provenance": [],
      "authorship_tag": "ABX9TyO+AyuxKkH3GL8q6rsLux+Z",
      "include_colab_link": true
    },
    "kernelspec": {
      "name": "python3",
      "display_name": "Python 3"
    },
    "language_info": {
      "name": "python"
    }
  },
  "cells": [
    {
      "cell_type": "markdown",
      "metadata": {
        "id": "view-in-github",
        "colab_type": "text"
      },
      "source": [
        "<a href=\"https://colab.research.google.com/github/a18091986/MATH/blob/advanced-math-introduction/4_HW_Analytic_geometry.ipynb\" target=\"_parent\"><img src=\"https://colab.research.google.com/assets/colab-badge.svg\" alt=\"Open In Colab\"/></a>"
      ]
    },
    {
      "cell_type": "markdown",
      "source": [
        "###1. Решите уравнение $\\frac{sin(x)}{x} = 0$\n",
        "\n",
        "Ответ: $x = \\pi n \\,\\,\\, n\\in \\mathbb Z, n \\neq 0 $"
      ],
      "metadata": {
        "id": "9Tgz4E94BgK5"
      }
    },
    {
      "cell_type": "markdown",
      "source": [
        "###2. Даны три прямые $y=k_1x+b_1, y=k_2x+b_2, y=k_3x+b_3$. Как узнать, пересекаются они в одной точке или нет?\n",
        "\n",
        "Ответ: решить систему уравнений\n",
        "\n",
        "$$\\begin{equation*}\n",
        "\\begin{cases}\n",
        "y - k_1x - b_1 = 0\\\\\n",
        "y - k_2x - b_2 = 0\\\\\n",
        "y - k_3x - b_3 = 0\n",
        "\\end{cases}\n",
        "\\end{equation*}$$\n",
        "\n",
        "Если решение существует и единственное, пересекаются в 1 точке. Если решений нет - не пересекаются в 1 точке. Если решений бесконечно много - совпадают. "
      ],
      "metadata": {
        "id": "pPJdcy2hBobp"
      }
    },
    {
      "cell_type": "markdown",
      "source": [
        "###3. На листе тетради «в линейку» (расстояние между линиями равно а) лежит игла (длиной b). Координаты нижней точки иглы (х,у), игла лежит под углом $α$. Пересекает ли игла линию или нет?\n",
        "\n",
        "Пусть:\n",
        "\n",
        "- проведем прямую через начало и конец иглы, примем за начало координат точку пересечения этой линии с предыдущей линейкой листа\n",
        "- $x_1,y_1 = a$ - точка пересечения этой прямой со следующей линейкой листа \n",
        "\n",
        "тогда:\n",
        "- $Y = tg\\alpha X$ - уравнение прямой, содержащей иглу\n",
        "- $a = tg\\alpha x_1$\n",
        "- для того, чтобы игла пересекала следующую линейку должно выполняться:\n",
        "$$\\sqrt{x^2 + y^2} + b > \\sqrt{x_1^2 + a^2} ⇒ \\sqrt{x^2 + y^2} + b > \\sqrt{\\big(\\frac{a}{tg\\alpha}\\big)^2  + a^2}$$\n",
        "\n",
        "полагая $\\alpha \\in (0, \\frac{\\pi}{2})$ получим условие на a, при котором игла будет пересекать линию:\n",
        "\n",
        "$$\\frac{tg\\alpha\\sqrt{x^2+y^2}+b}{\\sqrt{1+tg\\alpha}} ≥ a$$\n"
      ],
      "metadata": {
        "id": "hGh4QL6IB1kh"
      }
    },
    {
      "cell_type": "markdown",
      "source": [
        "###4*. (необязательно) Решите аналитически и потом численно (в программе) уравнение, зависящее от параметра а: $sin(аx)=0$ при условии: $0.01<a<0.02, 100<х<500$ Т.е. надо найти решение х как функцию параметра а - построить график $x=x(а)$. Если численным методом не получается найти все ветви решения $x(а)$, то отыщите хотя бы одну.\n"
      ],
      "metadata": {
        "id": "MKPGtK84B-ex"
      }
    },
    {
      "cell_type": "markdown",
      "source": [
        "###5. Найти угол $\\alpha$ между прямыми $4y - 3x +12 = 0$ и $7y + x - 14 = 0$\n",
        "\n",
        "- $y = \\frac{3}{4}x - 3 ⇒ k_1 = \\frac{3}{4}$\n",
        "- $y = -\\frac{1}{7}x + 2 ⇒ k_2 = -\\frac{1}{7}$\n",
        "\n",
        "$tg\\alpha = \\frac{\\frac{3}{4} + \\frac{1}{7}}{1 - \\frac{3}{28}} = \\frac{25}{25} = 1 ⇒ \\alpha = 45^\\circ$"
      ],
      "metadata": {
        "id": "vkTu_4hOCNtR"
      }
    },
    {
      "cell_type": "markdown",
      "source": [
        "###6. Найти угол $\\alpha$ между прямыми $x = \\sqrt2$ и $x = -\\sqrt3$\n",
        "\n",
        "Ответ: прямые параллельны, угол равен $2\\pi n \\,\\, n \\in \\mathbb Z$"
      ],
      "metadata": {
        "id": "v2vMOm6hCgvz"
      }
    },
    {
      "cell_type": "markdown",
      "source": [
        "###7. Выяснить тип кривых второго порядка, порожденных следующими уравнениями:\n",
        "\n",
        "- $y^2 - 2x - 2y - 5 = 0$\n",
        "- $3x^2 + 5y^2 + 12x - 30y + 42 = 0$\n",
        "- $2x^2 - y^2 + 6y - 7=0$\n",
        "- $2x^2 - 3y^2 - 28x - 42y - 55 = 0$"
      ],
      "metadata": {
        "id": "wvKMtAbvCzbj"
      }
    },
    {
      "cell_type": "markdown",
      "source": [
        "__7.1__ $y^2 - 2x - 2y - 5 = (y-1)^2 - 2x - 6 = 0 ⇒ (y-1)^2 = 2(x + 3) \\Rightarrow$ парабола\n",
        "\n",
        "__7.2__ $3x^2 + 5y^2 + 12x - 30y + 42 = (3x^2 + 12x + 12) + (5y^2 - 30y + 45) - 15 = 0 ⇒ 3(x + 2)^2 + 5(y - 3)^2 - 15 = 0 ⇒ \\frac{(x+2)^2}{5} + \\frac{(y-3)^2}{3} = 1 ⇒ эллипс $\n",
        "\n",
        "__7.3__ $2x^2 - y^2 + 6y - 7 = 2x^2 - (y^2 - 6y + 9) - 16 ⇒ \\frac{x^2}{8} - \\frac{(y - 3)^2}{16} = 1 ⇒$ уравнение гиперболы\n",
        "\n",
        "__7.4__ $2x^2 - 3y^2 - 28x - 42y - 55 = 2(x^2 - 14x + 49) - 3(y^2 + 14y + 49) - 6 ⇒ \\frac{(x-7)^2}{3} - \\frac{(y+7)^2}{2} = 1 ⇒$ уравнение гиперболы"
      ],
      "metadata": {
        "id": "FYAxYs05fxZj"
      }
    }
  ]
}